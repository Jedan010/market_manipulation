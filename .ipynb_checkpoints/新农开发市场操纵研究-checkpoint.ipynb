{
 "cells": [
  {
   "cell_type": "markdown",
   "metadata": {},
   "source": [
    "# 新农开发操纵研究"
   ]
  },
  {
   "cell_type": "markdown",
   "metadata": {},
   "source": [
    "2015年6月26日（周五）14时51分至14时59分，周晨利用资金优势，控制并操作本人证券账户，大笔、连续申报买入“新农开发”，在涨停价大笔封单锁定“新农开发”股票价格。2015年6月29日（周一）9时24分至10时36分，周晨将上一交易日买入的“新农开发”全部高价卖出，获利2,205,675.29元。\n",
    "[来源](http://www.csrc.gov.cn/pub/zjhpublic/G00306212/201708/t20170814_322131.htm?keywords=%E6%93%8D%E7%BA%B5)"
   ]
  },
  {
   "cell_type": "markdown",
   "metadata": {},
   "source": [
    "- 股票名称：新农开发\n",
    "- 股票代码：600359\n",
    "- 英文名：Xinjiang Talimu Agriculture Development"
   ]
  },
  {
   "cell_type": "code",
   "execution_count": 1,
   "metadata": {
    "collapsed": true
   },
   "outputs": [],
   "source": [
    "import tushare as ts"
   ]
  },
  {
   "cell_type": "markdown",
   "metadata": {},
   "source": [
    "## 2015年6月26日股价"
   ]
  },
  {
   "cell_type": "code",
   "execution_count": 2,
   "metadata": {
    "collapsed": true
   },
   "outputs": [],
   "source": [
    "code = '600359'\n",
    "df = ts.get_tick_data(code, date='2015-06-26')"
   ]
  },
  {
   "cell_type": "code",
   "execution_count": 33,
   "metadata": {
    "collapsed": false
   },
   "outputs": [],
   "source": [
    "df.sort_index(ascending=False, inplace=True)\n",
    "df.set_index('time', inplace=True)\n",
    "df.loc[df.change=='--','change'] = 0"
   ]
  },
  {
   "cell_type": "code",
   "execution_count": 34,
   "metadata": {
    "collapsed": false
   },
   "outputs": [
    {
     "data": {
      "text/html": [
       "<div>\n",
       "<style>\n",
       "    .dataframe thead tr:only-child th {\n",
       "        text-align: right;\n",
       "    }\n",
       "\n",
       "    .dataframe thead th {\n",
       "        text-align: left;\n",
       "    }\n",
       "\n",
       "    .dataframe tbody tr th {\n",
       "        vertical-align: top;\n",
       "    }\n",
       "</style>\n",
       "<table border=\"1\" class=\"dataframe\">\n",
       "  <thead>\n",
       "    <tr style=\"text-align: right;\">\n",
       "      <th></th>\n",
       "      <th>price</th>\n",
       "      <th>change</th>\n",
       "      <th>volume</th>\n",
       "      <th>amount</th>\n",
       "      <th>type</th>\n",
       "    </tr>\n",
       "    <tr>\n",
       "      <th>time</th>\n",
       "      <th></th>\n",
       "      <th></th>\n",
       "      <th></th>\n",
       "      <th></th>\n",
       "      <th></th>\n",
       "    </tr>\n",
       "  </thead>\n",
       "  <tbody>\n",
       "    <tr>\n",
       "      <th>09:25:10</th>\n",
       "      <td>16.81</td>\n",
       "      <td>16.81</td>\n",
       "      <td>7822</td>\n",
       "      <td>13149958</td>\n",
       "      <td>买盘</td>\n",
       "    </tr>\n",
       "    <tr>\n",
       "      <th>09:30:05</th>\n",
       "      <td>16.70</td>\n",
       "      <td>-0.11</td>\n",
       "      <td>1066</td>\n",
       "      <td>1780220</td>\n",
       "      <td>卖盘</td>\n",
       "    </tr>\n",
       "    <tr>\n",
       "      <th>09:30:10</th>\n",
       "      <td>16.78</td>\n",
       "      <td>0.08</td>\n",
       "      <td>1122</td>\n",
       "      <td>1882716</td>\n",
       "      <td>买盘</td>\n",
       "    </tr>\n",
       "    <tr>\n",
       "      <th>09:30:15</th>\n",
       "      <td>16.75</td>\n",
       "      <td>-0.03</td>\n",
       "      <td>597</td>\n",
       "      <td>999975</td>\n",
       "      <td>中性盘</td>\n",
       "    </tr>\n",
       "    <tr>\n",
       "      <th>09:30:25</th>\n",
       "      <td>16.78</td>\n",
       "      <td>0.03</td>\n",
       "      <td>247</td>\n",
       "      <td>414466</td>\n",
       "      <td>买盘</td>\n",
       "    </tr>\n",
       "  </tbody>\n",
       "</table>\n",
       "</div>"
      ],
      "text/plain": [
       "          price change  volume    amount type\n",
       "time                                         \n",
       "09:25:10  16.81  16.81    7822  13149958   买盘\n",
       "09:30:05  16.70  -0.11    1066   1780220   卖盘\n",
       "09:30:10  16.78   0.08    1122   1882716   买盘\n",
       "09:30:15  16.75  -0.03     597    999975  中性盘\n",
       "09:30:25  16.78   0.03     247    414466   买盘"
      ]
     },
     "execution_count": 34,
     "metadata": {},
     "output_type": "execute_result"
    }
   ],
   "source": [
    "df.head()"
   ]
  },
  {
   "cell_type": "code",
   "execution_count": 46,
   "metadata": {
    "collapsed": false
   },
   "outputs": [
    {
     "data": {
      "image/png": "[encoded data removed]",
      "text/plain": [
       "<matplotlib.figure.Figure at 0x2140bc8d320>"
      ]
     },
     "metadata": {},
     "output_type": "display_data"
    }
   ],
   "source": [
    "df.loc['14:40':,'price'].plot()\n",
    "plt.tight_layout()"
   ]
  },
  {
   "cell_type": "code",
   "execution_count": 48,
   "metadata": {
    "collapsed": false
   },
   "outputs": [
    {
     "data": {
      "text/plain": [
       "<matplotlib.axes._subplots.AxesSubplot at 0x2140bd254a8>"
      ]
     },
     "execution_count": 48,
     "metadata": {},
     "output_type": "execute_result"
    },
    {
     "data": {
      "image/png": "[encoded data removed]",
      "text/plain": [
       "<matplotlib.figure.Figure at 0x2140bd25160>"
      ]
     },
     "metadata": {},
     "output_type": "display_data"
    }
   ],
   "source": [
    "df.loc['14:40':,'volume'].plot()"
   ]
  },
  {
   "cell_type": "code",
   "execution_count": 45,
   "metadata": {
    "collapsed": false,
    "scrolled": true
   },
   "outputs": [
    {
     "data": {
      "image/png": "[encoded data removed]",
      "text/plain": [
       "<matplotlib.figure.Figure at 0x2140bc16a58>"
      ]
     },
     "metadata": {},
     "output_type": "display_data"
    }
   ],
   "source": [
    "df.loc['14:40':,'amount'].plot()\n",
    "plt.tight_layout()"
   ]
  },
  {
   "cell_type": "markdown",
   "metadata": {},
   "source": [
    "### MinMax规范化后"
   ]
  },
  {
   "cell_type": "code",
   "execution_count": 105,
   "metadata": {
    "collapsed": false
   },
   "outputs": [],
   "source": [
    "column = df.columns[:-2]\n",
    "df_scale = df.loc['09:30':,column]\n",
    "from sklearn.preprocessing import MinMaxScaler\n",
    "\n",
    "for c in column:\n",
    "    df_scale.loc[:,c] =  MinMaxScaler().fit_transform(df_scale[c].values.reshape(-1,1))"
   ]
  },
  {
   "cell_type": "code",
   "execution_count": 106,
   "metadata": {
    "collapsed": false
   },
   "outputs": [
    {
     "data": {
      "image/png": "[encoded data removed]",
      "text/plain": [
       "<matplotlib.figure.Figure at 0x2140e038ba8>"
      ]
     },
     "metadata": {},
     "output_type": "display_data"
    }
   ],
   "source": [
    "df_scale.plot()\n",
    "plt.tight_layout()"
   ]
  },
  {
   "cell_type": "code",
   "execution_count": 107,
   "metadata": {
    "collapsed": false,
    "scrolled": true
   },
   "outputs": [
    {
     "data": {
      "image/png": "[encoded data removed]",
      "text/plain": [
       "<matplotlib.figure.Figure at 0x2140e096860>"
      ]
     },
     "metadata": {},
     "output_type": "display_data"
    }
   ],
   "source": [
    "df_scale.loc['14:40':].plot()\n",
    "plt.tight_layout()"
   ]
  },
  {
   "cell_type": "markdown",
   "metadata": {},
   "source": [
    "## 2016年6月29日"
   ]
  },
  {
   "cell_type": "code",
   "execution_count": 122,
   "metadata": {
    "collapsed": true
   },
   "outputs": [],
   "source": [
    "df2 = ts.get_tick_data(code, date='2015-06-29')"
   ]
  },
  {
   "cell_type": "code",
   "execution_count": 123,
   "metadata": {
    "collapsed": false
   },
   "outputs": [],
   "source": [
    "df2.sort_index(ascending=False, inplace=True)\n",
    "df2.set_index('time', inplace=True)\n",
    "df2.loc[df2.change=='--','change'] = 0"
   ]
  },
  {
   "cell_type": "code",
   "execution_count": 124,
   "metadata": {
    "collapsed": false
   },
   "outputs": [
    {
     "data": {
      "text/html": [
       "<div>\n",
       "<style>\n",
       "    .dataframe thead tr:only-child th {\n",
       "        text-align: right;\n",
       "    }\n",
       "\n",
       "    .dataframe thead th {\n",
       "        text-align: left;\n",
       "    }\n",
       "\n",
       "    .dataframe tbody tr th {\n",
       "        vertical-align: top;\n",
       "    }\n",
       "</style>\n",
       "<table border=\"1\" class=\"dataframe\">\n",
       "  <thead>\n",
       "    <tr style=\"text-align: right;\">\n",
       "      <th></th>\n",
       "      <th>price</th>\n",
       "      <th>change</th>\n",
       "      <th>volume</th>\n",
       "      <th>amount</th>\n",
       "      <th>type</th>\n",
       "    </tr>\n",
       "    <tr>\n",
       "      <th>time</th>\n",
       "      <th></th>\n",
       "      <th></th>\n",
       "      <th></th>\n",
       "      <th></th>\n",
       "      <th></th>\n",
       "    </tr>\n",
       "  </thead>\n",
       "  <tbody>\n",
       "    <tr>\n",
       "      <th>09:25:09</th>\n",
       "      <td>19.48</td>\n",
       "      <td>19.48</td>\n",
       "      <td>12173</td>\n",
       "      <td>23713004</td>\n",
       "      <td>买盘</td>\n",
       "    </tr>\n",
       "    <tr>\n",
       "      <th>09:30:04</th>\n",
       "      <td>19.44</td>\n",
       "      <td>-0.04</td>\n",
       "      <td>5116</td>\n",
       "      <td>9946962</td>\n",
       "      <td>卖盘</td>\n",
       "    </tr>\n",
       "    <tr>\n",
       "      <th>09:30:09</th>\n",
       "      <td>19.50</td>\n",
       "      <td>0.06</td>\n",
       "      <td>6357</td>\n",
       "      <td>12397807</td>\n",
       "      <td>买盘</td>\n",
       "    </tr>\n",
       "    <tr>\n",
       "      <th>09:30:19</th>\n",
       "      <td>19.53</td>\n",
       "      <td>0.03</td>\n",
       "      <td>6551</td>\n",
       "      <td>12794200</td>\n",
       "      <td>买盘</td>\n",
       "    </tr>\n",
       "    <tr>\n",
       "      <th>09:30:24</th>\n",
       "      <td>19.57</td>\n",
       "      <td>0.04</td>\n",
       "      <td>2261</td>\n",
       "      <td>4426146</td>\n",
       "      <td>中性盘</td>\n",
       "    </tr>\n",
       "  </tbody>\n",
       "</table>\n",
       "</div>"
      ],
      "text/plain": [
       "          price change  volume    amount type\n",
       "time                                         \n",
       "09:25:09  19.48  19.48   12173  23713004   买盘\n",
       "09:30:04  19.44  -0.04    5116   9946962   卖盘\n",
       "09:30:09  19.50   0.06    6357  12397807   买盘\n",
       "09:30:19  19.53   0.03    6551  12794200   买盘\n",
       "09:30:24  19.57   0.04    2261   4426146  中性盘"
      ]
     },
     "execution_count": 124,
     "metadata": {},
     "output_type": "execute_result"
    }
   ],
   "source": [
    "df2.head()"
   ]
  },
  {
   "cell_type": "code",
   "execution_count": 125,
   "metadata": {
    "collapsed": false
   },
   "outputs": [
    {
     "data": {
      "image/png": "[encoded data removed]",
      "text/plain": [
       "<matplotlib.figure.Figure at 0x2140e006cf8>"
      ]
     },
     "metadata": {},
     "output_type": "display_data"
    }
   ],
   "source": [
    "df2.loc[:'10:50','price'].plot()\n",
    "plt.tight_layout()"
   ]
  },
  {
   "cell_type": "code",
   "execution_count": 133,
   "metadata": {
    "collapsed": false
   },
   "outputs": [
    {
     "name": "stderr",
     "output_type": "stream",
     "text": [
      "C:\\Users\\J\\AppData\\Local\\Continuum\\Anaconda3\\lib\\site-packages\\sklearn\\utils\\validation.py:444: DataConversionWarning: Data with input dtype object was converted to float64 by MinMaxScaler.\n",
      "  warnings.warn(msg, DataConversionWarning)\n",
      "C:\\Users\\J\\AppData\\Local\\Continuum\\Anaconda3\\lib\\site-packages\\sklearn\\utils\\validation.py:444: DataConversionWarning: Data with input dtype int64 was converted to float64 by MinMaxScaler.\n",
      "  warnings.warn(msg, DataConversionWarning)\n"
     ]
    }
   ],
   "source": [
    "df2_scale = df2.loc['09:30':,column]\n",
    "for c in column:\n",
    "    df2_scale.loc[:,c] =  MinMaxScaler().fit_transform(df2_scale[c].values.reshape(-1,1))"
   ]
  },
  {
   "cell_type": "code",
   "execution_count": 136,
   "metadata": {
    "collapsed": false
   },
   "outputs": [
    {
     "data": {
      "text/plain": [
       "<matplotlib.axes._subplots.AxesSubplot at 0x2140f392780>"
      ]
     },
     "execution_count": 136,
     "metadata": {},
     "output_type": "execute_result"
    },
    {
     "data": {
      "image/png": "[encoded data removed]",
      "text/plain": [
       "<matplotlib.figure.Figure at 0x2140dd93518>"
      ]
     },
     "metadata": {},
     "output_type": "display_data"
    }
   ],
   "source": [
    "df2_scale.plot()"
   ]
  },
  {
   "cell_type": "markdown",
   "metadata": {},
   "source": [
    "## 分类数据"
   ]
  },
  {
   "cell_type": "markdown",
   "metadata": {},
   "source": [
    "### 行业分类"
   ]
  },
  {
   "cell_type": "code",
   "execution_count": 3,
   "metadata": {
    "collapsed": false
   },
   "outputs": [
    {
     "name": "stdout",
     "output_type": "stream",
     "text": [
      "[Getting data:]#################################################"
     ]
    }
   ],
   "source": [
    "cat = ts.get_industry_classified()"
   ]
  },
  {
   "cell_type": "code",
   "execution_count": 6,
   "metadata": {
    "collapsed": false
   },
   "outputs": [
    {
     "data": {
      "text/html": [
       "<div>\n",
       "<style>\n",
       "    .dataframe thead tr:only-child th {\n",
       "        text-align: right;\n",
       "    }\n",
       "\n",
       "    .dataframe thead th {\n",
       "        text-align: left;\n",
       "    }\n",
       "\n",
       "    .dataframe tbody tr th {\n",
       "        vertical-align: top;\n",
       "    }\n",
       "</style>\n",
       "<table border=\"1\" class=\"dataframe\">\n",
       "  <thead>\n",
       "    <tr style=\"text-align: right;\">\n",
       "      <th></th>\n",
       "      <th>code</th>\n",
       "      <th>name</th>\n",
       "      <th>c_name</th>\n",
       "    </tr>\n",
       "  </thead>\n",
       "  <tbody>\n",
       "    <tr>\n",
       "      <th>1442</th>\n",
       "      <td>600359</td>\n",
       "      <td>新农开发</td>\n",
       "      <td>农林牧渔</td>\n",
       "    </tr>\n",
       "  </tbody>\n",
       "</table>\n",
       "</div>"
      ],
      "text/plain": [
       "        code  name c_name\n",
       "1442  600359  新农开发   农林牧渔"
      ]
     },
     "execution_count": 6,
     "metadata": {},
     "output_type": "execute_result"
    }
   ],
   "source": [
    "cat.loc[cat.code==code]"
   ]
  },
  {
   "cell_type": "markdown",
   "metadata": {},
   "source": [
    "### 概念分类"
   ]
  },
  {
   "cell_type": "code",
   "execution_count": 16,
   "metadata": {
    "collapsed": false
   },
   "outputs": [
    {
     "name": "stdout",
     "output_type": "stream",
     "text": [
      "[Getting data:]##########################################################################################"
     ]
    },
    {
     "ename": "TypeError",
     "evalue": "'NoneType' object does not support item assignment",
     "output_type": "error",
     "traceback": [
      "\u001b[0;31m---------------------------------------------------------------------------\u001b[0m",
      "\u001b[0;31mTypeError\u001b[0m                                 Traceback (most recent call last)",
      "\u001b[0;32m<ipython-input-16-ec061ba18e7c>\u001b[0m in \u001b[0;36m<module>\u001b[0;34m()\u001b[0m\n\u001b[0;32m----> 1\u001b[0;31m \u001b[0mts\u001b[0m\u001b[1;33m.\u001b[0m\u001b[0mget_concept_classified\u001b[0m\u001b[1;33m(\u001b[0m\u001b[1;33m)\u001b[0m\u001b[1;33m\u001b[0m\u001b[0m\n\u001b[0m",
      "\u001b[0;32mC:\\Users\\J\\AppData\\Local\\Continuum\\Anaconda3\\lib\\site-packages\\tushare\\stock\\classifying.py\u001b[0m in \u001b[0;36mget_concept_classified\u001b[0;34m()\u001b[0m\n\u001b[1;32m     72\u001b[0m     \u001b[1;32mfor\u001b[0m \u001b[0mrow\u001b[0m \u001b[1;32min\u001b[0m \u001b[0mdf\u001b[0m\u001b[1;33m.\u001b[0m\u001b[0mvalues\u001b[0m\u001b[1;33m:\u001b[0m\u001b[1;33m\u001b[0m\u001b[0m\n\u001b[1;32m     73\u001b[0m         \u001b[0mrowDf\u001b[0m \u001b[1;33m=\u001b[0m  \u001b[0m_get_detail\u001b[0m\u001b[1;33m(\u001b[0m\u001b[0mrow\u001b[0m\u001b[1;33m[\u001b[0m\u001b[1;36m0\u001b[0m\u001b[1;33m]\u001b[0m\u001b[1;33m)\u001b[0m\u001b[1;33m\u001b[0m\u001b[0m\n\u001b[0;32m---> 74\u001b[0;31m         \u001b[0mrowDf\u001b[0m\u001b[1;33m[\u001b[0m\u001b[1;34m'c_name'\u001b[0m\u001b[1;33m]\u001b[0m \u001b[1;33m=\u001b[0m \u001b[0mrow\u001b[0m\u001b[1;33m[\u001b[0m\u001b[1;36m1\u001b[0m\u001b[1;33m]\u001b[0m\u001b[1;33m\u001b[0m\u001b[0m\n\u001b[0m\u001b[1;32m     75\u001b[0m         \u001b[0mdata\u001b[0m\u001b[1;33m.\u001b[0m\u001b[0mappend\u001b[0m\u001b[1;33m(\u001b[0m\u001b[0mrowDf\u001b[0m\u001b[1;33m)\u001b[0m\u001b[1;33m\u001b[0m\u001b[0m\n\u001b[1;32m     76\u001b[0m     \u001b[0mdata\u001b[0m \u001b[1;33m=\u001b[0m \u001b[0mpd\u001b[0m\u001b[1;33m.\u001b[0m\u001b[0mconcat\u001b[0m\u001b[1;33m(\u001b[0m\u001b[0mdata\u001b[0m\u001b[1;33m,\u001b[0m\u001b[0mignore_index\u001b[0m\u001b[1;33m=\u001b[0m\u001b[1;32mTrue\u001b[0m\u001b[1;33m)\u001b[0m\u001b[1;33m\u001b[0m\u001b[0m\n",
      "\u001b[0;31mTypeError\u001b[0m: 'NoneType' object does not support item assignment"
     ]
    }
   ],
   "source": [
    "ts.get_concept_classified()"
   ]
  },
  {
   "cell_type": "code",
   "execution_count": null,
   "metadata": {
    "collapsed": true
   },
   "outputs": [],
   "source": []
  },
  {
   "cell_type": "markdown",
   "metadata": {},
   "source": [
    "### 地域分类"
   ]
  },
  {
   "cell_type": "code",
   "execution_count": 11,
   "metadata": {
    "collapsed": true
   },
   "outputs": [],
   "source": [
    "cat_geograph = ts.get_area_classified()"
   ]
  },
  {
   "cell_type": "code",
   "execution_count": 14,
   "metadata": {
    "collapsed": false
   },
   "outputs": [
    {
     "data": {
      "text/html": [
       "<div>\n",
       "<style>\n",
       "    .dataframe thead tr:only-child th {\n",
       "        text-align: right;\n",
       "    }\n",
       "\n",
       "    .dataframe thead th {\n",
       "        text-align: left;\n",
       "    }\n",
       "\n",
       "    .dataframe tbody tr th {\n",
       "        vertical-align: top;\n",
       "    }\n",
       "</style>\n",
       "<table border=\"1\" class=\"dataframe\">\n",
       "  <thead>\n",
       "    <tr style=\"text-align: right;\">\n",
       "      <th></th>\n",
       "      <th>code</th>\n",
       "      <th>name</th>\n",
       "      <th>area</th>\n",
       "    </tr>\n",
       "  </thead>\n",
       "  <tbody>\n",
       "    <tr>\n",
       "      <th>1526</th>\n",
       "      <td>600359</td>\n",
       "      <td>新农开发</td>\n",
       "      <td>新疆</td>\n",
       "    </tr>\n",
       "  </tbody>\n",
       "</table>\n",
       "</div>"
      ],
      "text/plain": [
       "        code  name area\n",
       "1526  600359  新农开发   新疆"
      ]
     },
     "execution_count": 14,
     "metadata": {},
     "output_type": "execute_result"
    }
   ],
   "source": [
    "cat_geograph.loc[cat_geograph.code==code]"
   ]
  },
  {
   "cell_type": "code",
   "execution_count": 15,
   "metadata": {
    "collapsed": true
   },
   "outputs": [],
   "source": [
    "cat_geograph.to_csv('./data/地域分类.csv')"
   ]
  },
  {
   "cell_type": "markdown",
   "metadata": {},
   "source": [
    "## 基本面分析"
   ]
  },
  {
   "cell_type": "markdown",
   "metadata": {},
   "source": [
    "### 公司基本情况\n",
    "\n",
    "- code,代码\n",
    "- name,名称\n",
    "- industry,所属行业\n",
    "- area,地区\n",
    "- pe,市盈率\n",
    "- outstanding,流通股本(亿)\n",
    "- totals,总股本(亿)\n",
    "- totalAssets,总资产(万)\n",
    "- liquidAssets,流动资产\n",
    "- fixedAssets,固定资产\n",
    "- reserved,公积金\n",
    "- reservedPerShare,每股公积金\n",
    "- esp,每股收益\n",
    "- bvps,每股净资\n",
    "- pb,市净率\n",
    "- timeToMarket,上市日期\n",
    "- undp,未分利润\n",
    "- perundp, 每股未分配\n",
    "- rev,收入同比(%)\n",
    "- profit,利润同比(%)\n",
    "- gpr,毛利率(%)\n",
    "- npr,净利润率(%)\n",
    "- holders,股东人数"
   ]
  },
  {
   "cell_type": "code",
   "execution_count": 30,
   "metadata": {
    "collapsed": false,
    "scrolled": true
   },
   "outputs": [],
   "source": [
    "base_info = ts.get_stock_basics()"
   ]
  },
  {
   "cell_type": "code",
   "execution_count": 31,
   "metadata": {
    "collapsed": true
   },
   "outputs": [],
   "source": [
    "base_info.to_excel('./data/基本情况.xlsx')"
   ]
  },
  {
   "cell_type": "code",
   "execution_count": 35,
   "metadata": {
    "collapsed": false
   },
   "outputs": [
    {
     "data": {
      "text/plain": [
       "name                    新农开发\n",
       "industry                农业综合\n",
       "area                      新疆\n",
       "pe                    105.22\n",
       "outstanding             3.82\n",
       "totals                  3.82\n",
       "totalAssets           297727\n",
       "liquidAssets          195242\n",
       "fixedAssets          32050.9\n",
       "reserved             93332.8\n",
       "reservedPerShare        2.45\n",
       "esp                    0.051\n",
       "bvps                    1.78\n",
       "pb                      4.04\n",
       "timeToMarket        19990429\n",
       "undp                -69860.9\n",
       "perundp                -1.83\n",
       "rev                   -10.12\n",
       "profit                 116.8\n",
       "gpr                     6.25\n",
       "npr                     2.18\n",
       "holders                47554\n",
       "Name: 600359, dtype: object"
      ]
     },
     "execution_count": 35,
     "metadata": {},
     "output_type": "execute_result"
    }
   ],
   "source": [
    "base_info.loc[code]"
   ]
  },
  {
   "cell_type": "markdown",
   "metadata": {},
   "source": [
    "### 业绩报告\n",
    "\n",
    "- code,代码\n",
    "- name,名称\n",
    "- esp,每股收益\n",
    "- eps_yoy,每股收益同比(%)\n",
    "- bvps,每股净资产\n",
    "- roe,净资产收益率(%)\n",
    "- epcf,每股现金流量(元)\n",
    "- net_profits,净利润(万元)\n",
    "- profits_yoy,净利润同比(%)\n",
    "- distrib,分配方案\n",
    "- report_date,发布日期"
   ]
  },
  {
   "cell_type": "code",
   "execution_count": 36,
   "metadata": {
    "collapsed": false,
    "scrolled": true
   },
   "outputs": [
    {
     "name": "stdout",
     "output_type": "stream",
     "text": [
      "[Getting data:]#################################################"
     ]
    }
   ],
   "source": [
    "report = ts.get_report_data(2015,1)"
   ]
  },
  {
   "cell_type": "code",
   "execution_count": 38,
   "metadata": {
    "collapsed": true
   },
   "outputs": [],
   "source": [
    "report.to_excel('./data/2015年第1季度业绩报告.xlsx')"
   ]
  },
  {
   "cell_type": "code",
   "execution_count": 39,
   "metadata": {
    "collapsed": false
   },
   "outputs": [
    {
     "data": {
      "text/html": [
       "<div>\n",
       "<style>\n",
       "    .dataframe thead tr:only-child th {\n",
       "        text-align: right;\n",
       "    }\n",
       "\n",
       "    .dataframe thead th {\n",
       "        text-align: left;\n",
       "    }\n",
       "\n",
       "    .dataframe tbody tr th {\n",
       "        vertical-align: top;\n",
       "    }\n",
       "</style>\n",
       "<table border=\"1\" class=\"dataframe\">\n",
       "  <thead>\n",
       "    <tr style=\"text-align: right;\">\n",
       "      <th></th>\n",
       "      <th>code</th>\n",
       "      <th>name</th>\n",
       "      <th>eps</th>\n",
       "      <th>eps_yoy</th>\n",
       "      <th>bvps</th>\n",
       "      <th>roe</th>\n",
       "      <th>epcf</th>\n",
       "      <th>net_profits</th>\n",
       "      <th>profits_yoy</th>\n",
       "      <th>distrib</th>\n",
       "      <th>report_date</th>\n",
       "    </tr>\n",
       "  </thead>\n",
       "  <tbody>\n",
       "    <tr>\n",
       "      <th>582</th>\n",
       "      <td>600359</td>\n",
       "      <td>新农开发</td>\n",
       "      <td>0.02</td>\n",
       "      <td>100.0</td>\n",
       "      <td>NaN</td>\n",
       "      <td>0.8</td>\n",
       "      <td>NaN</td>\n",
       "      <td>793.62</td>\n",
       "      <td>128.56</td>\n",
       "      <td>NaN</td>\n",
       "      <td>04-30</td>\n",
       "    </tr>\n",
       "  </tbody>\n",
       "</table>\n",
       "</div>"
      ],
      "text/plain": [
       "       code  name   eps  eps_yoy  bvps  roe  epcf  net_profits  profits_yoy  \\\n",
       "582  600359  新农开发  0.02    100.0   NaN  0.8   NaN       793.62       128.56   \n",
       "\n",
       "     distrib report_date  \n",
       "582      NaN       04-30  "
      ]
     },
     "execution_count": 39,
     "metadata": {},
     "output_type": "execute_result"
    }
   ],
   "source": [
    "report.loc[report.code==code]"
   ]
  },
  {
   "cell_type": "markdown",
   "metadata": {},
   "source": [
    "### 盈利能力\n",
    "- code,代码\n",
    "- name,名称\n",
    "- roe,净资产收益率(%)\n",
    "- net_profit_ratio,净利率(%)\n",
    "- gross_profit_rate,毛利率(%)\n",
    "- net_profits,净利润(万元)\n",
    "- esp,每股收益\n",
    "- business_income,营业收入(百万元)\n",
    "- bips,每股主营业务收入(元)"
   ]
  },
  {
   "cell_type": "code",
   "execution_count": 40,
   "metadata": {
    "collapsed": false,
    "scrolled": true
   },
   "outputs": [
    {
     "name": "stdout",
     "output_type": "stream",
     "text": [
      "[Getting data:]#################################################"
     ]
    }
   ],
   "source": [
    "earning = ts.get_profit_data(2015,1)"
   ]
  },
  {
   "cell_type": "code",
   "execution_count": 41,
   "metadata": {
    "collapsed": true
   },
   "outputs": [],
   "source": [
    "earning.to_excel('./data/2015年第1季度盈利能力.xlsx')"
   ]
  },
  {
   "cell_type": "code",
   "execution_count": 44,
   "metadata": {
    "collapsed": false
   },
   "outputs": [
    {
     "data": {
      "text/html": [
       "<div>\n",
       "<style>\n",
       "    .dataframe thead tr:only-child th {\n",
       "        text-align: right;\n",
       "    }\n",
       "\n",
       "    .dataframe thead th {\n",
       "        text-align: left;\n",
       "    }\n",
       "\n",
       "    .dataframe tbody tr th {\n",
       "        vertical-align: top;\n",
       "    }\n",
       "</style>\n",
       "<table border=\"1\" class=\"dataframe\">\n",
       "  <thead>\n",
       "    <tr style=\"text-align: right;\">\n",
       "      <th></th>\n",
       "      <th>code</th>\n",
       "      <th>name</th>\n",
       "      <th>roe</th>\n",
       "      <th>net_profit_ratio</th>\n",
       "      <th>gross_profit_rate</th>\n",
       "      <th>net_profits</th>\n",
       "      <th>eps</th>\n",
       "      <th>business_income</th>\n",
       "      <th>bips</th>\n",
       "    </tr>\n",
       "  </thead>\n",
       "  <tbody>\n",
       "    <tr>\n",
       "      <th>1656</th>\n",
       "      <td>600359</td>\n",
       "      <td>新农开发</td>\n",
       "      <td>0.79</td>\n",
       "      <td>4.91</td>\n",
       "      <td>28.9245</td>\n",
       "      <td>7.9362</td>\n",
       "      <td>0.0208</td>\n",
       "      <td>161.4042</td>\n",
       "      <td>0.423</td>\n",
       "    </tr>\n",
       "  </tbody>\n",
       "</table>\n",
       "</div>"
      ],
      "text/plain": [
       "        code  name   roe  net_profit_ratio  gross_profit_rate  net_profits  \\\n",
       "1656  600359  新农开发  0.79              4.91            28.9245       7.9362   \n",
       "\n",
       "         eps  business_income   bips  \n",
       "1656  0.0208         161.4042  0.423  "
      ]
     },
     "execution_count": 44,
     "metadata": {},
     "output_type": "execute_result"
    }
   ],
   "source": [
    "earning.loc[earning.code==code]"
   ]
  },
  {
   "cell_type": "markdown",
   "metadata": {},
   "source": [
    "### 营运能力\n",
    "- code,代码\n",
    "- name,名称\n",
    "- arturnover,应收账款周转率(次)\n",
    "- arturndays,应收账款周转天数(天)\n",
    "- inventory_turnover,存货周转率(次)\n",
    "- inventory_days,存货周转天数(天)\n",
    "- currentasset_turnover,流动资产周转率(次)\n",
    "- currentasset_days,流动资产周转天数(天)"
   ]
  },
  {
   "cell_type": "code",
   "execution_count": 45,
   "metadata": {
    "collapsed": false,
    "scrolled": true
   },
   "outputs": [
    {
     "name": "stdout",
     "output_type": "stream",
     "text": [
      "[Getting data:]#################################################"
     ]
    }
   ],
   "source": [
    "operation = ts.get_operation_data(2015,1)"
   ]
  },
  {
   "cell_type": "code",
   "execution_count": 46,
   "metadata": {
    "collapsed": true
   },
   "outputs": [],
   "source": [
    "operation.to_excel('./data/2015年第1季运营能力.xlsx')"
   ]
  },
  {
   "cell_type": "code",
   "execution_count": 47,
   "metadata": {
    "collapsed": false
   },
   "outputs": [
    {
     "data": {
      "text/html": [
       "<div>\n",
       "<style>\n",
       "    .dataframe thead tr:only-child th {\n",
       "        text-align: right;\n",
       "    }\n",
       "\n",
       "    .dataframe thead th {\n",
       "        text-align: left;\n",
       "    }\n",
       "\n",
       "    .dataframe tbody tr th {\n",
       "        vertical-align: top;\n",
       "    }\n",
       "</style>\n",
       "<table border=\"1\" class=\"dataframe\">\n",
       "  <thead>\n",
       "    <tr style=\"text-align: right;\">\n",
       "      <th></th>\n",
       "      <th>code</th>\n",
       "      <th>name</th>\n",
       "      <th>arturnover</th>\n",
       "      <th>arturndays</th>\n",
       "      <th>inventory_turnover</th>\n",
       "      <th>inventory_days</th>\n",
       "      <th>currentasset_turnover</th>\n",
       "      <th>currentasset_days</th>\n",
       "    </tr>\n",
       "  </thead>\n",
       "  <tbody>\n",
       "    <tr>\n",
       "      <th>2277</th>\n",
       "      <td>600359</td>\n",
       "      <td>新农开发</td>\n",
       "      <td>2.3908</td>\n",
       "      <td>37.6443</td>\n",
       "      <td>0.224</td>\n",
       "      <td>401.7857</td>\n",
       "      <td>0.1113</td>\n",
       "      <td>808.6253</td>\n",
       "    </tr>\n",
       "  </tbody>\n",
       "</table>\n",
       "</div>"
      ],
      "text/plain": [
       "        code  name  arturnover  arturndays  inventory_turnover  \\\n",
       "2277  600359  新农开发      2.3908     37.6443               0.224   \n",
       "\n",
       "      inventory_days  currentasset_turnover  currentasset_days  \n",
       "2277        401.7857                 0.1113           808.6253  "
      ]
     },
     "execution_count": 47,
     "metadata": {},
     "output_type": "execute_result"
    }
   ],
   "source": [
    "operation.loc[operation.code==code]"
   ]
  },
  {
   "cell_type": "markdown",
   "metadata": {},
   "source": [
    "### 成长能力"
   ]
  },
  {
   "cell_type": "markdown",
   "metadata": {},
   "source": [
    "- code,代码\n",
    "- name,名称\n",
    "- mbrg,主营业务收入增长率(%)\n",
    "- nprg,净利润增长率(%)\n",
    "- nav,净资产增长率\n",
    "- targ,总资产增长率\n",
    "- epsg,每股收益增长率\n",
    "- seg,股东权益增长率"
   ]
  },
  {
   "cell_type": "code",
   "execution_count": 48,
   "metadata": {
    "collapsed": false,
    "scrolled": true
   },
   "outputs": [
    {
     "name": "stdout",
     "output_type": "stream",
     "text": [
      "[Getting data:]##############################################"
     ]
    }
   ],
   "source": [
    "growth = ts.get_growth_data(2015,1)"
   ]
  },
  {
   "cell_type": "code",
   "execution_count": 56,
   "metadata": {
    "collapsed": true
   },
   "outputs": [],
   "source": [
    "growth.to_excel('./data/2015年第1季成长能力.xlsx')"
   ]
  },
  {
   "cell_type": "code",
   "execution_count": 50,
   "metadata": {
    "collapsed": false
   },
   "outputs": [
    {
     "data": {
      "text/html": [
       "<div>\n",
       "<style>\n",
       "    .dataframe thead tr:only-child th {\n",
       "        text-align: right;\n",
       "    }\n",
       "\n",
       "    .dataframe thead th {\n",
       "        text-align: left;\n",
       "    }\n",
       "\n",
       "    .dataframe tbody tr th {\n",
       "        vertical-align: top;\n",
       "    }\n",
       "</style>\n",
       "<table border=\"1\" class=\"dataframe\">\n",
       "  <thead>\n",
       "    <tr style=\"text-align: right;\">\n",
       "      <th></th>\n",
       "      <th>code</th>\n",
       "      <th>name</th>\n",
       "      <th>mbrg</th>\n",
       "      <th>nprg</th>\n",
       "      <th>nav</th>\n",
       "      <th>targ</th>\n",
       "      <th>epsg</th>\n",
       "      <th>seg</th>\n",
       "    </tr>\n",
       "  </thead>\n",
       "  <tbody>\n",
       "    <tr>\n",
       "      <th>2442</th>\n",
       "      <td>600359</td>\n",
       "      <td>新农开发</td>\n",
       "      <td>-1.9971</td>\n",
       "      <td>NaN</td>\n",
       "      <td>185.9139</td>\n",
       "      <td>37.0354</td>\n",
       "      <td>100.0</td>\n",
       "      <td>141.3252</td>\n",
       "    </tr>\n",
       "    <tr>\n",
       "      <th>2720</th>\n",
       "      <td>600359</td>\n",
       "      <td>新农开发</td>\n",
       "      <td>-1.9971</td>\n",
       "      <td>NaN</td>\n",
       "      <td>185.9139</td>\n",
       "      <td>37.0354</td>\n",
       "      <td>100.0</td>\n",
       "      <td>141.3252</td>\n",
       "    </tr>\n",
       "  </tbody>\n",
       "</table>\n",
       "</div>"
      ],
      "text/plain": [
       "        code  name    mbrg  nprg       nav     targ   epsg       seg\n",
       "2442  600359  新农开发 -1.9971   NaN  185.9139  37.0354  100.0  141.3252\n",
       "2720  600359  新农开发 -1.9971   NaN  185.9139  37.0354  100.0  141.3252"
      ]
     },
     "execution_count": 50,
     "metadata": {},
     "output_type": "execute_result"
    }
   ],
   "source": [
    "growth.loc[growth.code==code]"
   ]
  },
  {
   "cell_type": "markdown",
   "metadata": {},
   "source": [
    "### 偿债能力"
   ]
  },
  {
   "cell_type": "markdown",
   "metadata": {},
   "source": [
    "- code,代码\n",
    "- name,名称\n",
    "- currentratio,流动比率\n",
    "- quickratio,速动比率\n",
    "- cashratio,现金比率\n",
    "- icratio,利息支付倍数\n",
    "- sheqratio,股东权益比率\n",
    "- adratio,股东权益增长率"
   ]
  },
  {
   "cell_type": "code",
   "execution_count": 51,
   "metadata": {
    "collapsed": false
   },
   "outputs": [
    {
     "name": "stdout",
     "output_type": "stream",
     "text": [
      "[Getting data:]#################################################"
     ]
    }
   ],
   "source": [
    "pay = ts.get_debtpaying_data(2015,1)"
   ]
  },
  {
   "cell_type": "code",
   "execution_count": 55,
   "metadata": {
    "collapsed": true
   },
   "outputs": [],
   "source": [
    "pay.to_excel('./data/2015年第1季偿债能力.xlsx')"
   ]
  },
  {
   "cell_type": "code",
   "execution_count": 54,
   "metadata": {
    "collapsed": false
   },
   "outputs": [
    {
     "data": {
      "text/html": [
       "<div>\n",
       "<style>\n",
       "    .dataframe thead tr:only-child th {\n",
       "        text-align: right;\n",
       "    }\n",
       "\n",
       "    .dataframe thead th {\n",
       "        text-align: left;\n",
       "    }\n",
       "\n",
       "    .dataframe tbody tr th {\n",
       "        vertical-align: top;\n",
       "    }\n",
       "</style>\n",
       "<table border=\"1\" class=\"dataframe\">\n",
       "  <thead>\n",
       "    <tr style=\"text-align: right;\">\n",
       "      <th></th>\n",
       "      <th>code</th>\n",
       "      <th>name</th>\n",
       "      <th>currentratio</th>\n",
       "      <th>quickratio</th>\n",
       "      <th>cashratio</th>\n",
       "      <th>icratio</th>\n",
       "      <th>sheqratio</th>\n",
       "      <th>adratio</th>\n",
       "    </tr>\n",
       "  </thead>\n",
       "  <tbody>\n",
       "    <tr>\n",
       "      <th>2328</th>\n",
       "      <td>600359</td>\n",
       "      <td>新农开发</td>\n",
       "      <td>1.1897</td>\n",
       "      <td>0.7443</td>\n",
       "      <td>53.7528</td>\n",
       "      <td>96.4179</td>\n",
       "      <td>36.3171</td>\n",
       "      <td>63.6829</td>\n",
       "    </tr>\n",
       "  </tbody>\n",
       "</table>\n",
       "</div>"
      ],
      "text/plain": [
       "        code  name currentratio quickratio cashratio  icratio sheqratio  \\\n",
       "2328  600359  新农开发       1.1897     0.7443   53.7528  96.4179   36.3171   \n",
       "\n",
       "      adratio  \n",
       "2328  63.6829  "
      ]
     },
     "execution_count": 54,
     "metadata": {},
     "output_type": "execute_result"
    }
   ],
   "source": [
    "pay.loc[pay.code==code]"
   ]
  },
  {
   "cell_type": "markdown",
   "metadata": {},
   "source": [
    "### 现金流量"
   ]
  },
  {
   "cell_type": "markdown",
   "metadata": {},
   "source": [
    "- code,代码\n",
    "- name,名称\n",
    "- cf_sales,经营现金净流量对销售收入比率\n",
    "- rateofreturn,资产的经营现金流量回报率\n",
    "- cf_nm,经营现金净流量与净利润的比率\n",
    "- cf_liabilities,经营现金净流量对负债比率\n",
    "- cashflowratio,现金流量比率"
   ]
  },
  {
   "cell_type": "code",
   "execution_count": 52,
   "metadata": {
    "collapsed": false,
    "scrolled": true
   },
   "outputs": [
    {
     "name": "stdout",
     "output_type": "stream",
     "text": [
      "[Getting data:]#################################################"
     ]
    }
   ],
   "source": [
    "cash = ts.get_cashflow_data(2015,1)"
   ]
  },
  {
   "cell_type": "code",
   "execution_count": 57,
   "metadata": {
    "collapsed": true
   },
   "outputs": [],
   "source": [
    "cash.to_excel('./data/2015年第1季现金流量.xlsx')"
   ]
  },
  {
   "cell_type": "code",
   "execution_count": 59,
   "metadata": {
    "collapsed": false
   },
   "outputs": [
    {
     "data": {
      "text/html": [
       "<div>\n",
       "<style>\n",
       "    .dataframe thead tr:only-child th {\n",
       "        text-align: right;\n",
       "    }\n",
       "\n",
       "    .dataframe thead th {\n",
       "        text-align: left;\n",
       "    }\n",
       "\n",
       "    .dataframe tbody tr th {\n",
       "        vertical-align: top;\n",
       "    }\n",
       "</style>\n",
       "<table border=\"1\" class=\"dataframe\">\n",
       "  <thead>\n",
       "    <tr style=\"text-align: right;\">\n",
       "      <th></th>\n",
       "      <th>code</th>\n",
       "      <th>name</th>\n",
       "      <th>cf_sales</th>\n",
       "      <th>rateofreturn</th>\n",
       "      <th>cf_nm</th>\n",
       "      <th>cf_liabilities</th>\n",
       "      <th>cashflowratio</th>\n",
       "    </tr>\n",
       "  </thead>\n",
       "  <tbody>\n",
       "    <tr>\n",
       "      <th>450</th>\n",
       "      <td>600359</td>\n",
       "      <td>新农开发</td>\n",
       "      <td>0.2063</td>\n",
       "      <td>0.0142</td>\n",
       "      <td>NaN</td>\n",
       "      <td>0.0222</td>\n",
       "      <td>2.8334</td>\n",
       "    </tr>\n",
       "  </tbody>\n",
       "</table>\n",
       "</div>"
      ],
      "text/plain": [
       "       code  name  cf_sales  rateofreturn  cf_nm  cf_liabilities  \\\n",
       "450  600359  新农开发    0.2063        0.0142    NaN          0.0222   \n",
       "\n",
       "     cashflowratio  \n",
       "450         2.8334  "
      ]
     },
     "execution_count": 59,
     "metadata": {},
     "output_type": "execute_result"
    }
   ],
   "source": [
    "cash.loc[cash.code==code]"
   ]
  },
  {
   "cell_type": "markdown",
   "metadata": {},
   "source": [
    "# 对基本情况进行聚类"
   ]
  },
  {
   "cell_type": "code",
   "execution_count": 61,
   "metadata": {
    "collapsed": false
   },
   "outputs": [
    {
     "name": "stdout",
     "output_type": "stream",
     "text": [
      "<class 'pandas.core.frame.DataFrame'>\n",
      "RangeIndex: 2913 entries, 0 to 2912\n",
      "Data columns (total 11 columns):\n",
      "code           2913 non-null object\n",
      "name           2913 non-null object\n",
      "eps            2884 non-null float64\n",
      "eps_yoy        2669 non-null float64\n",
      "bvps           566 non-null float64\n",
      "roe            2855 non-null float64\n",
      "epcf           576 non-null float64\n",
      "net_profits    2913 non-null float64\n",
      "profits_yoy    2737 non-null float64\n",
      "distrib        0 non-null float64\n",
      "report_date    2913 non-null object\n",
      "dtypes: float64(8), object(3)\n",
      "memory usage: 250.4+ KB\n"
     ]
    }
   ],
   "source": [
    "report.info()"
   ]
  },
  {
   "cell_type": "code",
   "execution_count": 62,
   "metadata": {
    "collapsed": false
   },
   "outputs": [
    {
     "name": "stdout",
     "output_type": "stream",
     "text": [
      "<class 'pandas.core.frame.DataFrame'>\n",
      "RangeIndex: 2913 entries, 0 to 2912\n",
      "Data columns (total 9 columns):\n",
      "code                 2913 non-null object\n",
      "name                 2913 non-null object\n",
      "roe                  2782 non-null float64\n",
      "net_profit_ratio     2908 non-null float64\n",
      "gross_profit_rate    2908 non-null float64\n",
      "net_profits          2913 non-null float64\n",
      "eps                  2883 non-null float64\n",
      "business_income      2913 non-null float64\n",
      "bips                 2883 non-null float64\n",
      "dtypes: float64(7), object(2)\n",
      "memory usage: 204.9+ KB\n"
     ]
    }
   ],
   "source": [
    "earning.info()"
   ]
  },
  {
   "cell_type": "code",
   "execution_count": 66,
   "metadata": {
    "collapsed": false
   },
   "outputs": [
    {
     "data": {
      "text/html": [
       "<div>\n",
       "<style>\n",
       "    .dataframe thead tr:only-child th {\n",
       "        text-align: right;\n",
       "    }\n",
       "\n",
       "    .dataframe thead th {\n",
       "        text-align: left;\n",
       "    }\n",
       "\n",
       "    .dataframe tbody tr th {\n",
       "        vertical-align: top;\n",
       "    }\n",
       "</style>\n",
       "<table border=\"1\" class=\"dataframe\">\n",
       "  <thead>\n",
       "    <tr style=\"text-align: right;\">\n",
       "      <th></th>\n",
       "      <th>name</th>\n",
       "      <th>eps</th>\n",
       "      <th>eps_yoy</th>\n",
       "      <th>bvps</th>\n",
       "      <th>roe</th>\n",
       "      <th>epcf</th>\n",
       "      <th>net_profits</th>\n",
       "      <th>profits_yoy</th>\n",
       "      <th>distrib</th>\n",
       "      <th>report_date</th>\n",
       "    </tr>\n",
       "    <tr>\n",
       "      <th>code</th>\n",
       "      <th></th>\n",
       "      <th></th>\n",
       "      <th></th>\n",
       "      <th></th>\n",
       "      <th></th>\n",
       "      <th></th>\n",
       "      <th></th>\n",
       "      <th></th>\n",
       "      <th></th>\n",
       "      <th></th>\n",
       "    </tr>\n",
       "  </thead>\n",
       "  <tbody>\n",
       "    <tr>\n",
       "      <th>300533</th>\n",
       "      <td>冰川网络</td>\n",
       "      <td>0.68</td>\n",
       "      <td>NaN</td>\n",
       "      <td>NaN</td>\n",
       "      <td>11.95</td>\n",
       "      <td>NaN</td>\n",
       "      <td>5076.05</td>\n",
       "      <td>NaN</td>\n",
       "      <td>NaN</td>\n",
       "      <td>07-29</td>\n",
       "    </tr>\n",
       "    <tr>\n",
       "      <th>300535</th>\n",
       "      <td>达威股份</td>\n",
       "      <td>0.18</td>\n",
       "      <td>NaN</td>\n",
       "      <td>NaN</td>\n",
       "      <td>NaN</td>\n",
       "      <td>NaN</td>\n",
       "      <td>799.14</td>\n",
       "      <td>NaN</td>\n",
       "      <td>NaN</td>\n",
       "      <td>07-28</td>\n",
       "    </tr>\n",
       "    <tr>\n",
       "      <th>601997</th>\n",
       "      <td>贵阳银行</td>\n",
       "      <td>0.38</td>\n",
       "      <td>NaN</td>\n",
       "      <td>NaN</td>\n",
       "      <td>NaN</td>\n",
       "      <td>NaN</td>\n",
       "      <td>67477.70</td>\n",
       "      <td>NaN</td>\n",
       "      <td>NaN</td>\n",
       "      <td>07-27</td>\n",
       "    </tr>\n",
       "    <tr>\n",
       "      <th>002807</th>\n",
       "      <td>江阴银行</td>\n",
       "      <td>0.13</td>\n",
       "      <td>NaN</td>\n",
       "      <td>NaN</td>\n",
       "      <td>3.15</td>\n",
       "      <td>NaN</td>\n",
       "      <td>19883.80</td>\n",
       "      <td>NaN</td>\n",
       "      <td>NaN</td>\n",
       "      <td>07-26</td>\n",
       "    </tr>\n",
       "    <tr>\n",
       "      <th>600936</th>\n",
       "      <td>广西广电</td>\n",
       "      <td>0.10</td>\n",
       "      <td>NaN</td>\n",
       "      <td>NaN</td>\n",
       "      <td>NaN</td>\n",
       "      <td>NaN</td>\n",
       "      <td>13337.77</td>\n",
       "      <td>NaN</td>\n",
       "      <td>NaN</td>\n",
       "      <td>07-26</td>\n",
       "    </tr>\n",
       "  </tbody>\n",
       "</table>\n",
       "</div>"
      ],
      "text/plain": [
       "        name   eps  eps_yoy  bvps    roe  epcf  net_profits  profits_yoy  \\\n",
       "code                                                                       \n",
       "300533  冰川网络  0.68      NaN   NaN  11.95   NaN      5076.05          NaN   \n",
       "300535  达威股份  0.18      NaN   NaN    NaN   NaN       799.14          NaN   \n",
       "601997  贵阳银行  0.38      NaN   NaN    NaN   NaN     67477.70          NaN   \n",
       "002807  江阴银行  0.13      NaN   NaN   3.15   NaN     19883.80          NaN   \n",
       "600936  广西广电  0.10      NaN   NaN    NaN   NaN     13337.77          NaN   \n",
       "\n",
       "        distrib report_date  \n",
       "code                         \n",
       "300533      NaN       07-29  \n",
       "300535      NaN       07-28  \n",
       "601997      NaN       07-27  \n",
       "002807      NaN       07-26  \n",
       "600936      NaN       07-26  "
      ]
     },
     "execution_count": 66,
     "metadata": {},
     "output_type": "execute_result"
    }
   ],
   "source": [
    "a = report.copy()\n",
    "a.set_index('code', inplace=True)\n",
    "a.head()"
   ]
  },
  {
   "cell_type": "code",
   "execution_count": 67,
   "metadata": {
    "collapsed": false
   },
   "outputs": [
    {
     "data": {
      "text/html": [
       "<div>\n",
       "<style>\n",
       "    .dataframe thead tr:only-child th {\n",
       "        text-align: right;\n",
       "    }\n",
       "\n",
       "    .dataframe thead th {\n",
       "        text-align: left;\n",
       "    }\n",
       "\n",
       "    .dataframe tbody tr th {\n",
       "        vertical-align: top;\n",
       "    }\n",
       "</style>\n",
       "<table border=\"1\" class=\"dataframe\">\n",
       "  <thead>\n",
       "    <tr style=\"text-align: right;\">\n",
       "      <th></th>\n",
       "      <th>name</th>\n",
       "      <th>roe</th>\n",
       "      <th>net_profit_ratio</th>\n",
       "      <th>gross_profit_rate</th>\n",
       "      <th>net_profits</th>\n",
       "      <th>eps</th>\n",
       "      <th>business_income</th>\n",
       "      <th>bips</th>\n",
       "    </tr>\n",
       "    <tr>\n",
       "      <th>code</th>\n",
       "      <th></th>\n",
       "      <th></th>\n",
       "      <th></th>\n",
       "      <th></th>\n",
       "      <th></th>\n",
       "      <th></th>\n",
       "      <th></th>\n",
       "      <th></th>\n",
       "    </tr>\n",
       "  </thead>\n",
       "  <tbody>\n",
       "    <tr>\n",
       "      <th>600556</th>\n",
       "      <td>ST慧球</td>\n",
       "      <td>38.36</td>\n",
       "      <td>5.54</td>\n",
       "      <td>27.3245</td>\n",
       "      <td>1.2337</td>\n",
       "      <td>0.0031</td>\n",
       "      <td>22.2472</td>\n",
       "      <td>0.0563</td>\n",
       "    </tr>\n",
       "    <tr>\n",
       "      <th>600870</th>\n",
       "      <td>厦华电子</td>\n",
       "      <td>34.85</td>\n",
       "      <td>NaN</td>\n",
       "      <td>NaN</td>\n",
       "      <td>2.6859</td>\n",
       "      <td>0.0051</td>\n",
       "      <td>0.0000</td>\n",
       "      <td>0.0000</td>\n",
       "    </tr>\n",
       "    <tr>\n",
       "      <th>002893</th>\n",
       "      <td>华通热力</td>\n",
       "      <td>30.57</td>\n",
       "      <td>20.03</td>\n",
       "      <td>29.7287</td>\n",
       "      <td>101.1177</td>\n",
       "      <td>NaN</td>\n",
       "      <td>504.7268</td>\n",
       "      <td>NaN</td>\n",
       "    </tr>\n",
       "    <tr>\n",
       "      <th>600185</th>\n",
       "      <td>格力地产</td>\n",
       "      <td>24.05</td>\n",
       "      <td>2976.72</td>\n",
       "      <td>36.7594</td>\n",
       "      <td>802.0929</td>\n",
       "      <td>1.3886</td>\n",
       "      <td>26.9455</td>\n",
       "      <td>0.0466</td>\n",
       "    </tr>\n",
       "    <tr>\n",
       "      <th>600550</th>\n",
       "      <td>保变电气</td>\n",
       "      <td>23.62</td>\n",
       "      <td>22.49</td>\n",
       "      <td>18.6204</td>\n",
       "      <td>223.9893</td>\n",
       "      <td>0.1459</td>\n",
       "      <td>995.8655</td>\n",
       "      <td>0.6489</td>\n",
       "    </tr>\n",
       "  </tbody>\n",
       "</table>\n",
       "</div>"
      ],
      "text/plain": [
       "        name    roe  net_profit_ratio  gross_profit_rate  net_profits     eps  \\\n",
       "code                                                                            \n",
       "600556  ST慧球  38.36              5.54            27.3245       1.2337  0.0031   \n",
       "600870  厦华电子  34.85               NaN                NaN       2.6859  0.0051   \n",
       "002893  华通热力  30.57             20.03            29.7287     101.1177     NaN   \n",
       "600185  格力地产  24.05           2976.72            36.7594     802.0929  1.3886   \n",
       "600550  保变电气  23.62             22.49            18.6204     223.9893  0.1459   \n",
       "\n",
       "        business_income    bips  \n",
       "code                             \n",
       "600556          22.2472  0.0563  \n",
       "600870           0.0000  0.0000  \n",
       "002893         504.7268     NaN  \n",
       "600185          26.9455  0.0466  \n",
       "600550         995.8655  0.6489  "
      ]
     },
     "execution_count": 67,
     "metadata": {},
     "output_type": "execute_result"
    }
   ],
   "source": [
    "b = earning.copy()\n",
    "b.set_index('code', inplace=True)\n",
    "b.head()"
   ]
  },
  {
   "cell_type": "code",
   "execution_count": 126,
   "metadata": {
    "collapsed": false
   },
   "outputs": [],
   "source": [
    "base = pd.merge(report,earning, on=['code','name'])"
   ]
  },
  {
   "cell_type": "code",
   "execution_count": 127,
   "metadata": {
    "collapsed": true
   },
   "outputs": [],
   "source": [
    "index = [report, earning, operation, earning, pay, cash]\n",
    "\n",
    "for i in index[2:]:\n",
    "    base = pd.merge(base,i, on=['code','name'])"
   ]
  },
  {
   "cell_type": "code",
   "execution_count": 128,
   "metadata": {
    "collapsed": false
   },
   "outputs": [],
   "source": [
    "base.replace('--', np.nan, inplace=True)"
   ]
  },
  {
   "cell_type": "code",
   "execution_count": 134,
   "metadata": {
    "collapsed": false
   },
   "outputs": [
    {
     "data": {
      "text/plain": [
       "code                    0\n",
       "name                    0\n",
       "eps_x                  30\n",
       "roe_x                  58\n",
       "net_profits_x           0\n",
       "report_date             0\n",
       "net_profit_ratio_x      5\n",
       "gross_profit_rate_x     3\n",
       "net_profits_y           0\n",
       "eps_y                  30\n",
       "business_income_x       0\n",
       "bips_x                 30\n",
       "net_profit_ratio_y      5\n",
       "gross_profit_rate_y     3\n",
       "net_profits             0\n",
       "eps                    30\n",
       "business_income_y       0\n",
       "bips_y                 30\n",
       "icratio                60\n",
       "cf_sales               63\n",
       "dtype: int64"
      ]
     },
     "execution_count": 134,
     "metadata": {},
     "output_type": "execute_result"
    }
   ],
   "source": [
    "base.isnull().sum() "
   ]
  },
  {
   "cell_type": "code",
   "execution_count": 130,
   "metadata": {
    "collapsed": false
   },
   "outputs": [],
   "source": [
    "column = base.columns"
   ]
  },
  {
   "cell_type": "code",
   "execution_count": 131,
   "metadata": {
    "collapsed": false
   },
   "outputs": [],
   "source": [
    "base.drop(column[base.isnull().sum() > 100], inplace=True, axis=1)"
   ]
  },
  {
   "cell_type": "code",
   "execution_count": 136,
   "metadata": {
    "collapsed": true
   },
   "outputs": [],
   "source": [
    "base.to_excel('./data/2015年第1季基本面.xlsx')"
   ]
  },
  {
   "cell_type": "code",
   "execution_count": 135,
   "metadata": {
    "collapsed": false
   },
   "outputs": [
    {
     "data": {
      "text/html": [
       "<div>\n",
       "<style>\n",
       "    .dataframe thead tr:only-child th {\n",
       "        text-align: right;\n",
       "    }\n",
       "\n",
       "    .dataframe thead th {\n",
       "        text-align: left;\n",
       "    }\n",
       "\n",
       "    .dataframe tbody tr th {\n",
       "        vertical-align: top;\n",
       "    }\n",
       "</style>\n",
       "<table border=\"1\" class=\"dataframe\">\n",
       "  <thead>\n",
       "    <tr style=\"text-align: right;\">\n",
       "      <th></th>\n",
       "      <th>code</th>\n",
       "      <th>name</th>\n",
       "      <th>eps_x</th>\n",
       "      <th>roe_x</th>\n",
       "      <th>net_profits_x</th>\n",
       "      <th>report_date</th>\n",
       "      <th>net_profit_ratio_x</th>\n",
       "      <th>gross_profit_rate_x</th>\n",
       "      <th>net_profits_y</th>\n",
       "      <th>eps_y</th>\n",
       "      <th>business_income_x</th>\n",
       "      <th>bips_x</th>\n",
       "      <th>net_profit_ratio_y</th>\n",
       "      <th>gross_profit_rate_y</th>\n",
       "      <th>net_profits</th>\n",
       "      <th>eps</th>\n",
       "      <th>business_income_y</th>\n",
       "      <th>bips_y</th>\n",
       "      <th>icratio</th>\n",
       "      <th>cf_sales</th>\n",
       "    </tr>\n",
       "  </thead>\n",
       "  <tbody>\n",
       "    <tr>\n",
       "      <th>608</th>\n",
       "      <td>600359</td>\n",
       "      <td>新农开发</td>\n",
       "      <td>0.02</td>\n",
       "      <td>0.8</td>\n",
       "      <td>793.62</td>\n",
       "      <td>04-30</td>\n",
       "      <td>4.91</td>\n",
       "      <td>28.9245</td>\n",
       "      <td>7.9362</td>\n",
       "      <td>0.0208</td>\n",
       "      <td>161.4042</td>\n",
       "      <td>0.423</td>\n",
       "      <td>4.91</td>\n",
       "      <td>28.9245</td>\n",
       "      <td>7.9362</td>\n",
       "      <td>0.0208</td>\n",
       "      <td>161.4042</td>\n",
       "      <td>0.423</td>\n",
       "      <td>96.4179</td>\n",
       "      <td>0.2063</td>\n",
       "    </tr>\n",
       "  </tbody>\n",
       "</table>\n",
       "</div>"
      ],
      "text/plain": [
       "       code  name  eps_x  roe_x  net_profits_x report_date  \\\n",
       "608  600359  新农开发   0.02    0.8         793.62       04-30   \n",
       "\n",
       "     net_profit_ratio_x  gross_profit_rate_x  net_profits_y   eps_y  \\\n",
       "608                4.91              28.9245         7.9362  0.0208   \n",
       "\n",
       "     business_income_x  bips_x  net_profit_ratio_y  gross_profit_rate_y  \\\n",
       "608           161.4042   0.423                4.91              28.9245   \n",
       "\n",
       "     net_profits     eps  business_income_y  bips_y  icratio  cf_sales  \n",
       "608       7.9362  0.0208           161.4042   0.423  96.4179    0.2063  "
      ]
     },
     "execution_count": 135,
     "metadata": {},
     "output_type": "execute_result"
    }
   ],
   "source": [
    "base.loc[base.code==code]"
   ]
  },
  {
   "cell_type": "code",
   "execution_count": null,
   "metadata": {
    "collapsed": true
   },
   "outputs": [],
   "source": []
  }
 ],
 "metadata": {
  "kernelspec": {
   "display_name": "Python [conda root]",
   "language": "python",
   "name": "conda-root-py"
  },
  "language_info": {
   "codemirror_mode": {
    "name": "ipython",
    "version": 3
   },
   "file_extension": ".py",
   "mimetype": "text/x-python",
   "name": "python",
   "nbconvert_exporter": "python",
   "pygments_lexer": "ipython3",
   "version": "3.6.2"
  },
  "toc": {
   "nav_menu": {},
   "number_sections": true,
   "sideBar": true,
   "skip_h1_title": false,
   "toc_cell": false,
   "toc_position": {},
   "toc_section_display": "block",
   "toc_window_display": false
  },
  "varInspector": {
   "cols": {
    "lenName": 16,
    "lenType": 16,
    "lenVar": 40
   },
   "kernels_config": {
    "python": {
     "delete_cmd_postfix": "",
     "delete_cmd_prefix": "del ",
     "library": "var_list.py",
     "varRefreshCmd": "print(var_dic_list())"
    },
    "r": {
     "delete_cmd_postfix": ") ",
     "delete_cmd_prefix": "rm(",
     "library": "var_list.r",
     "varRefreshCmd": "cat(var_dic_list()) "
    }
   },
   "types_to_exclude": [
    "module",
    "function",
    "builtin_function_or_method",
    "instance",
    "_Feature"
   ],
   "window_display": false
  }
 },
 "nbformat": 4,
 "nbformat_minor": 2
}
