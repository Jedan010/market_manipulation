{
 "cells": [
  {
   "cell_type": "markdown",
   "metadata": {
    "extensions": {
     "jupyter_dashboards": {
      "version": 1,
      "views": {
       "grid_default": {
        "col": 0,
        "height": 4,
        "hidden": false,
        "row": 0,
        "width": 4
       },
       "report_default": {}
      }
     }
    }
   },
   "source": [
    "# 聚类"
   ]
  },
  {
   "cell_type": "markdown",
   "metadata": {
    "extensions": {
     "jupyter_dashboards": {
      "version": 1,
      "views": {
       "grid_default": {
        "col": 4,
        "height": 4,
        "hidden": false,
        "row": 0,
        "width": 4
       },
       "report_default": {}
      }
     }
    }
   },
   "source": [
    "## 指标筛选"
   ]
  },
  {
   "cell_type": "markdown",
   "metadata": {
    "extensions": {
     "jupyter_dashboards": {
      "version": 1,
      "views": {
       "grid_default": {
        "col": 8,
        "height": 4,
        "hidden": false,
        "row": 0,
        "width": 4
       },
       "report_default": {}
      }
     }
    }
   },
   "source": [
    "### 基本信息"
   ]
  },
  {
   "cell_type": "code",
   "execution_count": 1,
   "metadata": {
    "collapsed": false,
    "extensions": {
     "jupyter_dashboards": {
      "version": 1,
      "views": {
       "grid_default": {
        "hidden": true
       },
       "report_default": {}
      }
     }
    }
   },
   "outputs": [],
   "source": [
    "base_index = [\n",
    "'code,代码',\n",
    "'name,名称',\n",
    "'industry,所属行业',\n",
    "'pe,市盈率',\n",
    "'outstanding,流通股本(亿)',\n",
    "'totals,总股本(亿)',\n",
    "'totalAssets,总资产(万)',\n",
    "'liquidAssets,流动资产',\n",
    "'fixedAssets,固定资产',\n",
    "'reserved,公积金',\n",
    "'reservedPerShare,每股公积金',\n",
    "'bvps,每股净资',\n",
    "'pb,市净率',\n",
    "'esp,每股收益',\n",
    "]"
   ]
  },
  {
   "cell_type": "code",
   "execution_count": 2,
   "metadata": {
    "collapsed": false,
    "extensions": {
     "jupyter_dashboards": {
      "version": 1,
      "views": {
       "grid_default": {
        "hidden": true
       },
       "report_default": {}
      }
     }
    }
   },
   "outputs": [],
   "source": [
    "base_index = [a.split(',')[0] for a in base_index]\n",
    "\n",
    "base_info = pd.read_excel('./data/基本情况.xlsx')\n",
    "\n",
    "base_info = base_info.loc[:,base_index]"
   ]
  },
  {
   "cell_type": "code",
   "execution_count": 3,
   "metadata": {
    "collapsed": false,
    "extensions": {
     "jupyter_dashboards": {
      "version": 1,
      "views": {
       "grid_default": {
        "col": 0,
        "height": 9,
        "hidden": false,
        "row": 4,
        "width": 12
       },
       "report_default": {}
      }
     }
    },
    "scrolled": true
   },
   "outputs": [
    {
     "data": {
      "text/html": [
       "<div>\n",
       "<style>\n",
       "    .dataframe thead tr:only-child th {\n",
       "        text-align: right;\n",
       "    }\n",
       "\n",
       "    .dataframe thead th {\n",
       "        text-align: left;\n",
       "    }\n",
       "\n",
       "    .dataframe tbody tr th {\n",
       "        vertical-align: top;\n",
       "    }\n",
       "</style>\n",
       "<table border=\"1\" class=\"dataframe\">\n",
       "  <thead>\n",
       "    <tr style=\"text-align: right;\">\n",
       "      <th></th>\n",
       "      <th>code</th>\n",
       "      <th>name</th>\n",
       "      <th>industry</th>\n",
       "      <th>pe</th>\n",
       "      <th>outstanding</th>\n",
       "      <th>totals</th>\n",
       "      <th>totalAssets</th>\n",
       "      <th>liquidAssets</th>\n",
       "      <th>fixedAssets</th>\n",
       "      <th>reserved</th>\n",
       "      <th>reservedPerShare</th>\n",
       "      <th>bvps</th>\n",
       "      <th>pb</th>\n",
       "      <th>esp</th>\n",
       "    </tr>\n",
       "  </thead>\n",
       "  <tbody>\n",
       "    <tr>\n",
       "      <th>0</th>\n",
       "      <td>300722</td>\n",
       "      <td>N新余</td>\n",
       "      <td>专用机械</td>\n",
       "      <td>28.10</td>\n",
       "      <td>0.20</td>\n",
       "      <td>0.80</td>\n",
       "      <td>43229.96</td>\n",
       "      <td>20194.17</td>\n",
       "      <td>17876.42</td>\n",
       "      <td>7793.16</td>\n",
       "      <td>0.97</td>\n",
       "      <td>3.69</td>\n",
       "      <td>3.51</td>\n",
       "      <td>0.346</td>\n",
       "    </tr>\n",
       "    <tr>\n",
       "      <th>1</th>\n",
       "      <td>603916</td>\n",
       "      <td>N苏博特</td>\n",
       "      <td>化工原料</td>\n",
       "      <td>25.74</td>\n",
       "      <td>0.76</td>\n",
       "      <td>3.04</td>\n",
       "      <td>249746.05</td>\n",
       "      <td>140487.80</td>\n",
       "      <td>51312.94</td>\n",
       "      <td>46069.80</td>\n",
       "      <td>1.52</td>\n",
       "      <td>5.41</td>\n",
       "      <td>2.40</td>\n",
       "      <td>0.379</td>\n",
       "    </tr>\n",
       "    <tr>\n",
       "      <th>2</th>\n",
       "      <td>300725</td>\n",
       "      <td>N药石</td>\n",
       "      <td>化工原料</td>\n",
       "      <td>17.03</td>\n",
       "      <td>0.18</td>\n",
       "      <td>0.73</td>\n",
       "      <td>36124.62</td>\n",
       "      <td>22444.40</td>\n",
       "      <td>8258.13</td>\n",
       "      <td>17407.75</td>\n",
       "      <td>2.37</td>\n",
       "      <td>5.42</td>\n",
       "      <td>3.01</td>\n",
       "      <td>0.718</td>\n",
       "    </tr>\n",
       "    <tr>\n",
       "      <th>3</th>\n",
       "      <td>603083</td>\n",
       "      <td>N剑桥</td>\n",
       "      <td>通信设备</td>\n",
       "      <td>28.87</td>\n",
       "      <td>0.24</td>\n",
       "      <td>0.98</td>\n",
       "      <td>184472.72</td>\n",
       "      <td>123587.26</td>\n",
       "      <td>42335.89</td>\n",
       "      <td>27968.40</td>\n",
       "      <td>2.86</td>\n",
       "      <td>9.91</td>\n",
       "      <td>2.19</td>\n",
       "      <td>0.563</td>\n",
       "    </tr>\n",
       "    <tr>\n",
       "      <th>4</th>\n",
       "      <td>600903</td>\n",
       "      <td>贵州燃气</td>\n",
       "      <td>供气供热</td>\n",
       "      <td>25.26</td>\n",
       "      <td>1.22</td>\n",
       "      <td>8.13</td>\n",
       "      <td>751383.75</td>\n",
       "      <td>143656.61</td>\n",
       "      <td>308395.06</td>\n",
       "      <td>40520.62</td>\n",
       "      <td>0.50</td>\n",
       "      <td>3.30</td>\n",
       "      <td>1.28</td>\n",
       "      <td>0.126</td>\n",
       "    </tr>\n",
       "  </tbody>\n",
       "</table>\n",
       "</div>"
      ],
      "text/plain": [
       "     code  name industry     pe  outstanding  totals  totalAssets  \\\n",
       "0  300722   N新余     专用机械  28.10         0.20    0.80     43229.96   \n",
       "1  603916  N苏博特     化工原料  25.74         0.76    3.04    249746.05   \n",
       "2  300725   N药石     化工原料  17.03         0.18    0.73     36124.62   \n",
       "3  603083   N剑桥     通信设备  28.87         0.24    0.98    184472.72   \n",
       "4  600903  贵州燃气     供气供热  25.26         1.22    8.13    751383.75   \n",
       "\n",
       "   liquidAssets  fixedAssets  reserved  reservedPerShare  bvps    pb    esp  \n",
       "0      20194.17     17876.42   7793.16              0.97  3.69  3.51  0.346  \n",
       "1     140487.80     51312.94  46069.80              1.52  5.41  2.40  0.379  \n",
       "2      22444.40      8258.13  17407.75              2.37  5.42  3.01  0.718  \n",
       "3     123587.26     42335.89  27968.40              2.86  9.91  2.19  0.563  \n",
       "4     143656.61    308395.06  40520.62              0.50  3.30  1.28  0.126  "
      ]
     },
     "execution_count": 3,
     "metadata": {},
     "output_type": "execute_result"
    }
   ],
   "source": [
    "base_info.head()"
   ]
  },
  {
   "cell_type": "markdown",
   "metadata": {
    "extensions": {
     "jupyter_dashboards": {
      "version": 1,
      "views": {
       "grid_default": {
        "col": 0,
        "height": 4,
        "hidden": false,
        "row": 13,
        "width": 4
       },
       "report_default": {}
      }
     }
    }
   },
   "source": [
    "### 盈利能力"
   ]
  },
  {
   "cell_type": "code",
   "execution_count": 4,
   "metadata": {
    "collapsed": true,
    "extensions": {
     "jupyter_dashboards": {
      "version": 1,
      "views": {
       "grid_default": {
        "hidden": true
       },
       "report_default": {}
      }
     }
    }
   },
   "outputs": [],
   "source": [
    "earning_index = ['code,代码',\n",
    "'name,名称',\n",
    "'roe,净资产收益率(%)',\n",
    "'net_profit_ratio,净利率(%)',\n",
    "'gross_profit_rate,毛利率(%)',\n",
    "'net_profits,净利润(万元)',\n",
    "'business_income,营业收入(百万元)',\n",
    "'bips,每股主营业务收入(元)',]"
   ]
  },
  {
   "cell_type": "code",
   "execution_count": 5,
   "metadata": {
    "collapsed": false,
    "extensions": {
     "jupyter_dashboards": {
      "version": 1,
      "views": {
       "grid_default": {
        "col": 0,
        "height": 11,
        "hidden": false,
        "row": 17,
        "width": 9
       },
       "report_default": {}
      }
     }
    },
    "scrolled": true
   },
   "outputs": [
    {
     "data": {
      "text/html": [
       "<div>\n",
       "<style>\n",
       "    .dataframe thead tr:only-child th {\n",
       "        text-align: right;\n",
       "    }\n",
       "\n",
       "    .dataframe thead th {\n",
       "        text-align: left;\n",
       "    }\n",
       "\n",
       "    .dataframe tbody tr th {\n",
       "        vertical-align: top;\n",
       "    }\n",
       "</style>\n",
       "<table border=\"1\" class=\"dataframe\">\n",
       "  <thead>\n",
       "    <tr style=\"text-align: right;\">\n",
       "      <th></th>\n",
       "      <th>code</th>\n",
       "      <th>name</th>\n",
       "      <th>roe</th>\n",
       "      <th>net_profit_ratio</th>\n",
       "      <th>gross_profit_rate</th>\n",
       "      <th>net_profits</th>\n",
       "      <th>business_income</th>\n",
       "      <th>bips</th>\n",
       "    </tr>\n",
       "  </thead>\n",
       "  <tbody>\n",
       "    <tr>\n",
       "      <th>0</th>\n",
       "      <td>600556</td>\n",
       "      <td>ST慧球</td>\n",
       "      <td>38.36</td>\n",
       "      <td>5.54</td>\n",
       "      <td>27.3245</td>\n",
       "      <td>1.2337</td>\n",
       "      <td>22.2472</td>\n",
       "      <td>0.0563</td>\n",
       "    </tr>\n",
       "    <tr>\n",
       "      <th>1</th>\n",
       "      <td>600870</td>\n",
       "      <td>厦华电子</td>\n",
       "      <td>34.85</td>\n",
       "      <td>NaN</td>\n",
       "      <td>NaN</td>\n",
       "      <td>2.6859</td>\n",
       "      <td>0.0000</td>\n",
       "      <td>0.0000</td>\n",
       "    </tr>\n",
       "    <tr>\n",
       "      <th>2</th>\n",
       "      <td>2893</td>\n",
       "      <td>华通热力</td>\n",
       "      <td>30.57</td>\n",
       "      <td>20.03</td>\n",
       "      <td>29.7287</td>\n",
       "      <td>101.1177</td>\n",
       "      <td>504.7268</td>\n",
       "      <td>NaN</td>\n",
       "    </tr>\n",
       "    <tr>\n",
       "      <th>3</th>\n",
       "      <td>600185</td>\n",
       "      <td>格力地产</td>\n",
       "      <td>24.05</td>\n",
       "      <td>2976.72</td>\n",
       "      <td>36.7594</td>\n",
       "      <td>802.0929</td>\n",
       "      <td>26.9455</td>\n",
       "      <td>0.0466</td>\n",
       "    </tr>\n",
       "    <tr>\n",
       "      <th>4</th>\n",
       "      <td>600550</td>\n",
       "      <td>保变电气</td>\n",
       "      <td>23.62</td>\n",
       "      <td>22.49</td>\n",
       "      <td>18.6204</td>\n",
       "      <td>223.9893</td>\n",
       "      <td>995.8655</td>\n",
       "      <td>0.6489</td>\n",
       "    </tr>\n",
       "  </tbody>\n",
       "</table>\n",
       "</div>"
      ],
      "text/plain": [
       "     code  name    roe  net_profit_ratio  gross_profit_rate  net_profits  \\\n",
       "0  600556  ST慧球  38.36              5.54            27.3245       1.2337   \n",
       "1  600870  厦华电子  34.85               NaN                NaN       2.6859   \n",
       "2    2893  华通热力  30.57             20.03            29.7287     101.1177   \n",
       "3  600185  格力地产  24.05           2976.72            36.7594     802.0929   \n",
       "4  600550  保变电气  23.62             22.49            18.6204     223.9893   \n",
       "\n",
       "   business_income    bips  \n",
       "0          22.2472  0.0563  \n",
       "1           0.0000  0.0000  \n",
       "2         504.7268     NaN  \n",
       "3          26.9455  0.0466  \n",
       "4         995.8655  0.6489  "
      ]
     },
     "execution_count": 5,
     "metadata": {},
     "output_type": "execute_result"
    }
   ],
   "source": [
    "earning_index = [a.split(',')[0] for a in earning_index]\n",
    "earning = pd.read_excel('./data/2015年第1季度盈利能力.xlsx')\n",
    "\n",
    "earning = earning.loc[:,earning_index]\n",
    "earning.head()"
   ]
  },
  {
   "cell_type": "markdown",
   "metadata": {
    "extensions": {
     "jupyter_dashboards": {
      "version": 1,
      "views": {
       "grid_default": {
        "col": 4,
        "height": 4,
        "hidden": false,
        "row": 13,
        "width": 4
       },
       "report_default": {}
      }
     }
    }
   },
   "source": [
    "### 营运能力"
   ]
  },
  {
   "cell_type": "code",
   "execution_count": 6,
   "metadata": {
    "collapsed": true,
    "extensions": {
     "jupyter_dashboards": {
      "version": 1,
      "views": {
       "grid_default": {
        "hidden": true
       },
       "report_default": {}
      }
     }
    }
   },
   "outputs": [],
   "source": [
    "operation_index = ['code,代码',\n",
    "'name,名称',\n",
    "'arturnover,应收账款周转率(次)',\n",
    "'arturndays,应收账款周转天数(天)',\n",
    "'inventory_turnover,存货周转率(次)',\n",
    "'inventory_days,存货周转天数(天)',\n",
    "'currentasset_turnover,流动资产周转率(次)',\n",
    "'currentasset_days,流动资产周转天数(天)',]"
   ]
  },
  {
   "cell_type": "code",
   "execution_count": 7,
   "metadata": {
    "collapsed": false,
    "extensions": {
     "jupyter_dashboards": {
      "version": 1,
      "views": {
       "grid_default": {
        "col": 0,
        "height": 11,
        "hidden": false,
        "row": 28,
        "width": 10
       },
       "report_default": {}
      }
     }
    },
    "scrolled": true
   },
   "outputs": [
    {
     "data": {
      "text/html": [
       "<div>\n",
       "<style>\n",
       "    .dataframe thead tr:only-child th {\n",
       "        text-align: right;\n",
       "    }\n",
       "\n",
       "    .dataframe thead th {\n",
       "        text-align: left;\n",
       "    }\n",
       "\n",
       "    .dataframe tbody tr th {\n",
       "        vertical-align: top;\n",
       "    }\n",
       "</style>\n",
       "<table border=\"1\" class=\"dataframe\">\n",
       "  <thead>\n",
       "    <tr style=\"text-align: right;\">\n",
       "      <th></th>\n",
       "      <th>code</th>\n",
       "      <th>name</th>\n",
       "      <th>arturnover</th>\n",
       "      <th>arturndays</th>\n",
       "      <th>inventory_turnover</th>\n",
       "      <th>inventory_days</th>\n",
       "      <th>currentasset_turnover</th>\n",
       "      <th>currentasset_days</th>\n",
       "    </tr>\n",
       "  </thead>\n",
       "  <tbody>\n",
       "    <tr>\n",
       "      <th>0</th>\n",
       "      <td>300288</td>\n",
       "      <td>朗玛信息</td>\n",
       "      <td>0.9789</td>\n",
       "      <td>91.9399</td>\n",
       "      <td>115331.2493</td>\n",
       "      <td>0.0008</td>\n",
       "      <td>0.1388</td>\n",
       "      <td>648.4150</td>\n",
       "    </tr>\n",
       "    <tr>\n",
       "      <th>1</th>\n",
       "      <td>2649</td>\n",
       "      <td>博彦科技</td>\n",
       "      <td>1.0266</td>\n",
       "      <td>87.6680</td>\n",
       "      <td>13337.5862</td>\n",
       "      <td>0.0067</td>\n",
       "      <td>0.3728</td>\n",
       "      <td>241.4163</td>\n",
       "    </tr>\n",
       "    <tr>\n",
       "      <th>2</th>\n",
       "      <td>600605</td>\n",
       "      <td>汇通能源</td>\n",
       "      <td>1.1307</td>\n",
       "      <td>79.5967</td>\n",
       "      <td>12148.4408</td>\n",
       "      <td>0.0074</td>\n",
       "      <td>0.6256</td>\n",
       "      <td>143.8619</td>\n",
       "    </tr>\n",
       "    <tr>\n",
       "      <th>3</th>\n",
       "      <td>2039</td>\n",
       "      <td>黔源电力</td>\n",
       "      <td>2.4689</td>\n",
       "      <td>36.4535</td>\n",
       "      <td>9600.3997</td>\n",
       "      <td>0.0094</td>\n",
       "      <td>0.4728</td>\n",
       "      <td>190.3553</td>\n",
       "    </tr>\n",
       "    <tr>\n",
       "      <th>4</th>\n",
       "      <td>300467</td>\n",
       "      <td>迅游科技</td>\n",
       "      <td>13.3958</td>\n",
       "      <td>6.7185</td>\n",
       "      <td>4362.4634</td>\n",
       "      <td>0.0206</td>\n",
       "      <td>0.3384</td>\n",
       "      <td>265.9574</td>\n",
       "    </tr>\n",
       "  </tbody>\n",
       "</table>\n",
       "</div>"
      ],
      "text/plain": [
       "     code  name  arturnover  arturndays  inventory_turnover  inventory_days  \\\n",
       "0  300288  朗玛信息      0.9789     91.9399         115331.2493          0.0008   \n",
       "1    2649  博彦科技      1.0266     87.6680          13337.5862          0.0067   \n",
       "2  600605  汇通能源      1.1307     79.5967          12148.4408          0.0074   \n",
       "3    2039  黔源电力      2.4689     36.4535           9600.3997          0.0094   \n",
       "4  300467  迅游科技     13.3958      6.7185           4362.4634          0.0206   \n",
       "\n",
       "   currentasset_turnover  currentasset_days  \n",
       "0                 0.1388           648.4150  \n",
       "1                 0.3728           241.4163  \n",
       "2                 0.6256           143.8619  \n",
       "3                 0.4728           190.3553  \n",
       "4                 0.3384           265.9574  "
      ]
     },
     "execution_count": 7,
     "metadata": {},
     "output_type": "execute_result"
    }
   ],
   "source": [
    "operation_index = [a.split(',')[0] for a in operation_index]\n",
    "operation = pd.read_excel('./data/2015年第1季运营能力.xlsx')\n",
    "\n",
    "operation = operation.loc[:,operation_index]\n",
    "operation.head()"
   ]
  },
  {
   "cell_type": "markdown",
   "metadata": {
    "extensions": {
     "jupyter_dashboards": {
      "version": 1,
      "views": {
       "grid_default": {
        "col": 8,
        "height": 4,
        "hidden": false,
        "row": 13,
        "width": 4
       },
       "report_default": {}
      }
     }
    }
   },
   "source": [
    "### 成长能力"
   ]
  },
  {
   "cell_type": "code",
   "execution_count": 8,
   "metadata": {
    "collapsed": true,
    "extensions": {
     "jupyter_dashboards": {
      "version": 1,
      "views": {
       "grid_default": {
        "hidden": true
       },
       "report_default": {}
      }
     }
    }
   },
   "outputs": [],
   "source": [
    "growth_index = ['code,代码',\n",
    "'name,名称',\n",
    "'mbrg,主营业务收入增长率(%)',\n",
    "'nav,净资产增长率',\n",
    "'targ,总资产增长率',\n",
    "'epsg,每股收益增长率',\n",
    "'seg,股东权益增长率',]"
   ]
  },
  {
   "cell_type": "code",
   "execution_count": 9,
   "metadata": {
    "collapsed": false,
    "extensions": {
     "jupyter_dashboards": {
      "version": 1,
      "views": {
       "grid_default": {
        "col": 0,
        "height": 11,
        "hidden": false,
        "row": 39,
        "width": 7
       },
       "report_default": {}
      }
     }
    },
    "scrolled": true
   },
   "outputs": [
    {
     "data": {
      "text/html": [
       "<div>\n",
       "<style>\n",
       "    .dataframe thead tr:only-child th {\n",
       "        text-align: right;\n",
       "    }\n",
       "\n",
       "    .dataframe thead th {\n",
       "        text-align: left;\n",
       "    }\n",
       "\n",
       "    .dataframe tbody tr th {\n",
       "        vertical-align: top;\n",
       "    }\n",
       "</style>\n",
       "<table border=\"1\" class=\"dataframe\">\n",
       "  <thead>\n",
       "    <tr style=\"text-align: right;\">\n",
       "      <th></th>\n",
       "      <th>code</th>\n",
       "      <th>name</th>\n",
       "      <th>mbrg</th>\n",
       "      <th>nav</th>\n",
       "      <th>targ</th>\n",
       "      <th>epsg</th>\n",
       "      <th>seg</th>\n",
       "    </tr>\n",
       "  </thead>\n",
       "  <tbody>\n",
       "    <tr>\n",
       "      <th>0</th>\n",
       "      <td>600061</td>\n",
       "      <td>国投安信</td>\n",
       "      <td>-19.6668</td>\n",
       "      <td>3818.6471</td>\n",
       "      <td>5895.1883</td>\n",
       "      <td>6566.6667</td>\n",
       "      <td>3807.4992</td>\n",
       "    </tr>\n",
       "    <tr>\n",
       "      <th>1</th>\n",
       "      <td>2555</td>\n",
       "      <td>三七互娱</td>\n",
       "      <td>1687.0200</td>\n",
       "      <td>313.9871</td>\n",
       "      <td>359.5803</td>\n",
       "      <td>6875.0000</td>\n",
       "      <td>273.0219</td>\n",
       "    </tr>\n",
       "    <tr>\n",
       "      <th>2</th>\n",
       "      <td>615</td>\n",
       "      <td>京汉股份</td>\n",
       "      <td>-17.3315</td>\n",
       "      <td>28.2264</td>\n",
       "      <td>-2.8709</td>\n",
       "      <td>23400.0000</td>\n",
       "      <td>28.2264</td>\n",
       "    </tr>\n",
       "    <tr>\n",
       "      <th>3</th>\n",
       "      <td>2099</td>\n",
       "      <td>海翔药业</td>\n",
       "      <td>129.5048</td>\n",
       "      <td>452.0693</td>\n",
       "      <td>98.8347</td>\n",
       "      <td>2100.0000</td>\n",
       "      <td>459.5152</td>\n",
       "    </tr>\n",
       "    <tr>\n",
       "      <th>4</th>\n",
       "      <td>600764</td>\n",
       "      <td>中电广通</td>\n",
       "      <td>10.3199</td>\n",
       "      <td>3.5365</td>\n",
       "      <td>1.3605</td>\n",
       "      <td>-3300.0000</td>\n",
       "      <td>2.1677</td>\n",
       "    </tr>\n",
       "  </tbody>\n",
       "</table>\n",
       "</div>"
      ],
      "text/plain": [
       "     code  name       mbrg        nav       targ        epsg        seg\n",
       "0  600061  国投安信   -19.6668  3818.6471  5895.1883   6566.6667  3807.4992\n",
       "1    2555  三七互娱  1687.0200   313.9871   359.5803   6875.0000   273.0219\n",
       "2     615  京汉股份   -17.3315    28.2264    -2.8709  23400.0000    28.2264\n",
       "3    2099  海翔药业   129.5048   452.0693    98.8347   2100.0000   459.5152\n",
       "4  600764  中电广通    10.3199     3.5365     1.3605  -3300.0000     2.1677"
      ]
     },
     "execution_count": 9,
     "metadata": {},
     "output_type": "execute_result"
    }
   ],
   "source": [
    "growth_index = [a.split(',')[0] for a in growth_index]\n",
    "growth = pd.read_excel('./data/2015年第1季成长能力.xlsx')\n",
    "\n",
    "growth = growth.loc[:,growth_index]\n",
    "growth.head()"
   ]
  },
  {
   "cell_type": "markdown",
   "metadata": {
    "extensions": {
     "jupyter_dashboards": {
      "version": 1,
      "views": {
       "grid_default": {
        "col": 0,
        "height": 4,
        "hidden": false,
        "row": 50,
        "width": 4
       },
       "report_default": {}
      }
     }
    }
   },
   "source": [
    "### 现金流量"
   ]
  },
  {
   "cell_type": "code",
   "execution_count": 10,
   "metadata": {
    "collapsed": true,
    "extensions": {
     "jupyter_dashboards": {
      "version": 1,
      "views": {
       "grid_default": {
        "hidden": true
       },
       "report_default": {}
      }
     }
    }
   },
   "outputs": [],
   "source": [
    "cash_index = ['code,代码',\n",
    "'name,名称',\n",
    "'cf_sales,经营现金净流量对销售收入比率',\n",
    "'rateofreturn,资产的经营现金流量回报率',\n",
    "'cf_liabilities,经营现金净流量对负债比率',\n",
    "'cashflowratio,现金流量比率',]"
   ]
  },
  {
   "cell_type": "code",
   "execution_count": 11,
   "metadata": {
    "collapsed": false,
    "extensions": {
     "jupyter_dashboards": {
      "version": 1,
      "views": {
       "grid_default": {
        "col": 4,
        "height": 11,
        "hidden": false,
        "row": 51,
        "width": 7
       },
       "report_default": {}
      }
     }
    }
   },
   "outputs": [
    {
     "data": {
      "text/html": [
       "<div>\n",
       "<style>\n",
       "    .dataframe thead tr:only-child th {\n",
       "        text-align: right;\n",
       "    }\n",
       "\n",
       "    .dataframe thead th {\n",
       "        text-align: left;\n",
       "    }\n",
       "\n",
       "    .dataframe tbody tr th {\n",
       "        vertical-align: top;\n",
       "    }\n",
       "</style>\n",
       "<table border=\"1\" class=\"dataframe\">\n",
       "  <thead>\n",
       "    <tr style=\"text-align: right;\">\n",
       "      <th></th>\n",
       "      <th>code</th>\n",
       "      <th>name</th>\n",
       "      <th>cf_sales</th>\n",
       "      <th>rateofreturn</th>\n",
       "      <th>cf_liabilities</th>\n",
       "      <th>cashflowratio</th>\n",
       "    </tr>\n",
       "  </thead>\n",
       "  <tbody>\n",
       "    <tr>\n",
       "      <th>0</th>\n",
       "      <td>600696</td>\n",
       "      <td>*ST匹凸</td>\n",
       "      <td>175688.9956</td>\n",
       "      <td>-0.0087</td>\n",
       "      <td>-0.0140</td>\n",
       "      <td>-1.3985</td>\n",
       "    </tr>\n",
       "    <tr>\n",
       "      <th>1</th>\n",
       "      <td>600291</td>\n",
       "      <td>西水股份</td>\n",
       "      <td>4210.3122</td>\n",
       "      <td>0.3972</td>\n",
       "      <td>0.4691</td>\n",
       "      <td>48.4294</td>\n",
       "    </tr>\n",
       "    <tr>\n",
       "      <th>2</th>\n",
       "      <td>712</td>\n",
       "      <td>锦龙股份</td>\n",
       "      <td>360.0434</td>\n",
       "      <td>0.1214</td>\n",
       "      <td>0.1627</td>\n",
       "      <td>19.3811</td>\n",
       "    </tr>\n",
       "    <tr>\n",
       "      <th>3</th>\n",
       "      <td>600715</td>\n",
       "      <td>文投控股</td>\n",
       "      <td>274.8974</td>\n",
       "      <td>0.4312</td>\n",
       "      <td>0.3670</td>\n",
       "      <td>56.3025</td>\n",
       "    </tr>\n",
       "    <tr>\n",
       "      <th>4</th>\n",
       "      <td>600773</td>\n",
       "      <td>西藏城投</td>\n",
       "      <td>23.8100</td>\n",
       "      <td>0.0379</td>\n",
       "      <td>0.0499</td>\n",
       "      <td>7.9514</td>\n",
       "    </tr>\n",
       "  </tbody>\n",
       "</table>\n",
       "</div>"
      ],
      "text/plain": [
       "     code   name     cf_sales  rateofreturn  cf_liabilities  cashflowratio\n",
       "0  600696  *ST匹凸  175688.9956       -0.0087         -0.0140        -1.3985\n",
       "1  600291   西水股份    4210.3122        0.3972          0.4691        48.4294\n",
       "2     712   锦龙股份     360.0434        0.1214          0.1627        19.3811\n",
       "3  600715   文投控股     274.8974        0.4312          0.3670        56.3025\n",
       "4  600773   西藏城投      23.8100        0.0379          0.0499         7.9514"
      ]
     },
     "execution_count": 11,
     "metadata": {},
     "output_type": "execute_result"
    }
   ],
   "source": [
    "cash_index = [a.split(',')[0] for a in cash_index]\n",
    "cash = pd.read_excel('./data/2015年第1季现金流量.xlsx')\n",
    "\n",
    "cash = cash.loc[:,cash_index]\n",
    "cash.head()"
   ]
  },
  {
   "cell_type": "markdown",
   "metadata": {
    "extensions": {
     "jupyter_dashboards": {
      "version": 1,
      "views": {
       "grid_default": {
        "col": 0,
        "height": 4,
        "hidden": false,
        "row": 54,
        "width": 4
       },
       "report_default": {}
      }
     }
    }
   },
   "source": [
    "## 合并"
   ]
  },
  {
   "cell_type": "code",
   "execution_count": 12,
   "metadata": {
    "collapsed": true,
    "extensions": {
     "jupyter_dashboards": {
      "version": 1,
      "views": {
       "grid_default": {
        "hidden": true
       },
       "report_default": {}
      }
     }
    }
   },
   "outputs": [],
   "source": [
    "index = [base_info,\n",
    "earning,\n",
    "operation,\n",
    "growth,\n",
    "cash,]"
   ]
  },
  {
   "cell_type": "code",
   "execution_count": 13,
   "metadata": {
    "collapsed": false,
    "extensions": {
     "jupyter_dashboards": {
      "version": 1,
      "views": {
       "grid_default": {
        "hidden": true
       },
       "report_default": {}
      }
     }
    }
   },
   "outputs": [],
   "source": [
    "df = index[0].copy()\n",
    "for i in index[1:]:\n",
    "    df = pd.merge(df,i, on=['code','name'])"
   ]
  },
  {
   "cell_type": "code",
   "execution_count": 14,
   "metadata": {
    "collapsed": false,
    "extensions": {
     "jupyter_dashboards": {
      "version": 1,
      "views": {
       "grid_default": {
        "hidden": true
       },
       "report_default": {}
      }
     }
    }
   },
   "outputs": [
    {
     "data": {
      "text/plain": [
       "Index(['nav', 'targ', 'seg'], dtype='object')"
      ]
     },
     "execution_count": 14,
     "metadata": {},
     "output_type": "execute_result"
    }
   ],
   "source": [
    "df.columns[df.isnull().sum()>100]"
   ]
  },
  {
   "cell_type": "code",
   "execution_count": 15,
   "metadata": {
    "collapsed": true
   },
   "outputs": [],
   "source": [
    "df.drop_duplicates(inplace=True)"
   ]
  },
  {
   "cell_type": "code",
   "execution_count": 16,
   "metadata": {
    "collapsed": false
   },
   "outputs": [],
   "source": [
    "df.replace('--', np.nan, inplace=True)\n",
    "df.fillna(value=df.mean(), inplace=True);"
   ]
  },
  {
   "cell_type": "markdown",
   "metadata": {},
   "source": [
    "## 聚类"
   ]
  },
  {
   "cell_type": "code",
   "execution_count": 17,
   "metadata": {
    "collapsed": true
   },
   "outputs": [],
   "source": [
    "code = '600359'"
   ]
  },
  {
   "cell_type": "code",
   "execution_count": 18,
   "metadata": {
    "collapsed": false
   },
   "outputs": [],
   "source": [
    "data = df.set_index('code')\n",
    "data.drop(['name','industry'],axis=1, inplace=True)"
   ]
  },
  {
   "cell_type": "markdown",
   "metadata": {},
   "source": [
    "### 标准化"
   ]
  },
  {
   "cell_type": "code",
   "execution_count": 19,
   "metadata": {
    "collapsed": false
   },
   "outputs": [],
   "source": [
    "from sklearn.preprocessing import MinMaxScaler\n",
    "data[data.columns] = MinMaxScaler().fit_transform(data)"
   ]
  },
  {
   "cell_type": "code",
   "execution_count": 20,
   "metadata": {
    "collapsed": false
   },
   "outputs": [
    {
     "data": {
      "text/plain": [
       "KMeans(algorithm='auto', copy_x=True, init='k-means++', max_iter=300,\n",
       "    n_clusters=300, n_init=10, n_jobs=1, precompute_distances='auto',\n",
       "    random_state=None, tol=0.0001, verbose=0)"
      ]
     },
     "execution_count": 20,
     "metadata": {},
     "output_type": "execute_result"
    }
   ],
   "source": [
    "from sklearn.cluster import KMeans\n",
    "kmean = KMeans(n_clusters=300)\n",
    "kmean.fit(data)"
   ]
  },
  {
   "cell_type": "code",
   "execution_count": 21,
   "metadata": {
    "collapsed": false
   },
   "outputs": [
    {
     "data": {
      "text/plain": [
       "26"
      ]
     },
     "execution_count": 21,
     "metadata": {},
     "output_type": "execute_result"
    }
   ],
   "source": [
    "df['label'] = kmean.labels_\n",
    "len(df.loc[df.label==int(df.loc[df.code==int(code), 'label'].values)])"
   ]
  },
  {
   "cell_type": "code",
   "execution_count": 22,
   "metadata": {
    "collapsed": false
   },
   "outputs": [
    {
     "data": {
      "text/html": [
       "<div>\n",
       "<style>\n",
       "    .dataframe thead tr:only-child th {\n",
       "        text-align: right;\n",
       "    }\n",
       "\n",
       "    .dataframe thead th {\n",
       "        text-align: left;\n",
       "    }\n",
       "\n",
       "    .dataframe tbody tr th {\n",
       "        vertical-align: top;\n",
       "    }\n",
       "</style>\n",
       "<table border=\"1\" class=\"dataframe\">\n",
       "  <thead>\n",
       "    <tr style=\"text-align: right;\">\n",
       "      <th></th>\n",
       "      <th>code</th>\n",
       "      <th>name</th>\n",
       "      <th>industry</th>\n",
       "      <th>pe</th>\n",
       "      <th>outstanding</th>\n",
       "      <th>totals</th>\n",
       "      <th>totalAssets</th>\n",
       "      <th>liquidAssets</th>\n",
       "      <th>fixedAssets</th>\n",
       "      <th>reserved</th>\n",
       "      <th>...</th>\n",
       "      <th>mbrg</th>\n",
       "      <th>nav</th>\n",
       "      <th>targ</th>\n",
       "      <th>epsg</th>\n",
       "      <th>seg</th>\n",
       "      <th>cf_sales</th>\n",
       "      <th>rateofreturn</th>\n",
       "      <th>cf_liabilities</th>\n",
       "      <th>cashflowratio</th>\n",
       "      <th>label</th>\n",
       "    </tr>\n",
       "  </thead>\n",
       "  <tbody>\n",
       "    <tr>\n",
       "      <th>175</th>\n",
       "      <td>600520</td>\n",
       "      <td>文一科技</td>\n",
       "      <td>机械基件</td>\n",
       "      <td>0.00</td>\n",
       "      <td>1.58</td>\n",
       "      <td>1.58</td>\n",
       "      <td>84744.09</td>\n",
       "      <td>38445.15</td>\n",
       "      <td>13773.57</td>\n",
       "      <td>37950.73</td>\n",
       "      <td>...</td>\n",
       "      <td>-27.9910</td>\n",
       "      <td>102.2746</td>\n",
       "      <td>12.1463</td>\n",
       "      <td>-20.5618</td>\n",
       "      <td>141.5305</td>\n",
       "      <td>0.4872</td>\n",
       "      <td>0.0310</td>\n",
       "      <td>0.0966</td>\n",
       "      <td>11.1648</td>\n",
       "      <td>53</td>\n",
       "    </tr>\n",
       "    <tr>\n",
       "      <th>257</th>\n",
       "      <td>628</td>\n",
       "      <td>高新发展</td>\n",
       "      <td>园区开发</td>\n",
       "      <td>90.50</td>\n",
       "      <td>1.88</td>\n",
       "      <td>3.11</td>\n",
       "      <td>342023.09</td>\n",
       "      <td>295113.00</td>\n",
       "      <td>13672.04</td>\n",
       "      <td>72843.11</td>\n",
       "      <td>...</td>\n",
       "      <td>-43.7045</td>\n",
       "      <td>-22.4753</td>\n",
       "      <td>38.8709</td>\n",
       "      <td>4.3478</td>\n",
       "      <td>-21.6799</td>\n",
       "      <td>0.2565</td>\n",
       "      <td>0.0111</td>\n",
       "      <td>0.0114</td>\n",
       "      <td>1.2106</td>\n",
       "      <td>53</td>\n",
       "    </tr>\n",
       "    <tr>\n",
       "      <th>269</th>\n",
       "      <td>300102</td>\n",
       "      <td>乾照光电</td>\n",
       "      <td>半导体</td>\n",
       "      <td>31.01</td>\n",
       "      <td>6.01</td>\n",
       "      <td>7.05</td>\n",
       "      <td>364504.63</td>\n",
       "      <td>204532.38</td>\n",
       "      <td>134295.73</td>\n",
       "      <td>150321.69</td>\n",
       "      <td>...</td>\n",
       "      <td>-12.4846</td>\n",
       "      <td>-0.8038</td>\n",
       "      <td>4.5939</td>\n",
       "      <td>-66.6667</td>\n",
       "      <td>-0.8038</td>\n",
       "      <td>-0.3261</td>\n",
       "      <td>-0.0137</td>\n",
       "      <td>-0.0930</td>\n",
       "      <td>-11.7802</td>\n",
       "      <td>53</td>\n",
       "    </tr>\n",
       "    <tr>\n",
       "      <th>415</th>\n",
       "      <td>300086</td>\n",
       "      <td>康芝药业</td>\n",
       "      <td>化学制药</td>\n",
       "      <td>100.70</td>\n",
       "      <td>4.37</td>\n",
       "      <td>4.50</td>\n",
       "      <td>215433.30</td>\n",
       "      <td>136108.88</td>\n",
       "      <td>28472.60</td>\n",
       "      <td>110896.05</td>\n",
       "      <td>...</td>\n",
       "      <td>-49.2309</td>\n",
       "      <td>0.0416</td>\n",
       "      <td>-0.4402</td>\n",
       "      <td>-140.0000</td>\n",
       "      <td>0.1286</td>\n",
       "      <td>0.0409</td>\n",
       "      <td>0.0010</td>\n",
       "      <td>0.0208</td>\n",
       "      <td>2.3707</td>\n",
       "      <td>53</td>\n",
       "    </tr>\n",
       "    <tr>\n",
       "      <th>466</th>\n",
       "      <td>2591</td>\n",
       "      <td>恒大高新</td>\n",
       "      <td>化工原料</td>\n",
       "      <td>0.00</td>\n",
       "      <td>1.76</td>\n",
       "      <td>3.01</td>\n",
       "      <td>144139.25</td>\n",
       "      <td>54440.16</td>\n",
       "      <td>26027.43</td>\n",
       "      <td>82812.02</td>\n",
       "      <td>...</td>\n",
       "      <td>-24.3942</td>\n",
       "      <td>2.3766</td>\n",
       "      <td>5.6070</td>\n",
       "      <td>-36.3333</td>\n",
       "      <td>-0.8973</td>\n",
       "      <td>-0.2424</td>\n",
       "      <td>-0.0091</td>\n",
       "      <td>-0.0545</td>\n",
       "      <td>-6.0633</td>\n",
       "      <td>53</td>\n",
       "    </tr>\n",
       "  </tbody>\n",
       "</table>\n",
       "<p>5 rows × 36 columns</p>\n",
       "</div>"
      ],
      "text/plain": [
       "       code  name industry      pe  outstanding  totals  totalAssets  \\\n",
       "175  600520  文一科技     机械基件    0.00         1.58    1.58     84744.09   \n",
       "257     628  高新发展     园区开发   90.50         1.88    3.11    342023.09   \n",
       "269  300102  乾照光电      半导体   31.01         6.01    7.05    364504.63   \n",
       "415  300086  康芝药业     化学制药  100.70         4.37    4.50    215433.30   \n",
       "466    2591  恒大高新     化工原料    0.00         1.76    3.01    144139.25   \n",
       "\n",
       "     liquidAssets  fixedAssets   reserved  ...       mbrg       nav     targ  \\\n",
       "175      38445.15     13773.57   37950.73  ...   -27.9910  102.2746  12.1463   \n",
       "257     295113.00     13672.04   72843.11  ...   -43.7045  -22.4753  38.8709   \n",
       "269     204532.38    134295.73  150321.69  ...   -12.4846   -0.8038   4.5939   \n",
       "415     136108.88     28472.60  110896.05  ...   -49.2309    0.0416  -0.4402   \n",
       "466      54440.16     26027.43   82812.02  ...   -24.3942    2.3766   5.6070   \n",
       "\n",
       "         epsg       seg  cf_sales  rateofreturn  cf_liabilities  \\\n",
       "175  -20.5618  141.5305    0.4872        0.0310          0.0966   \n",
       "257    4.3478  -21.6799    0.2565        0.0111          0.0114   \n",
       "269  -66.6667   -0.8038   -0.3261       -0.0137         -0.0930   \n",
       "415 -140.0000    0.1286    0.0409        0.0010          0.0208   \n",
       "466  -36.3333   -0.8973   -0.2424       -0.0091         -0.0545   \n",
       "\n",
       "     cashflowratio  label  \n",
       "175        11.1648     53  \n",
       "257         1.2106     53  \n",
       "269       -11.7802     53  \n",
       "415         2.3707     53  \n",
       "466        -6.0633     53  \n",
       "\n",
       "[5 rows x 36 columns]"
      ]
     },
     "execution_count": 22,
     "metadata": {},
     "output_type": "execute_result"
    }
   ],
   "source": [
    "df.loc[df.label==int(df.loc[df.code==int(code), 'label'].values)].head()"
   ]
  },
  {
   "cell_type": "code",
   "execution_count": 23,
   "metadata": {
    "collapsed": false,
    "extensions": {
     "jupyter_dashboards": {
      "version": 1,
      "views": {
       "grid_default": {
        "hidden": true
       },
       "report_default": {}
      }
     }
    }
   },
   "outputs": [],
   "source": [
    "# from scipy.cluster.hierarchy import linkage, dendrogram\n",
    "# Z = linkage(X, 'ward')\n",
    "\n",
    "# from scipy.cluster.hierarchy import fcluster\n",
    "\n",
    "# k=500\n",
    "# index_cluster = fcluster(Z, k, criterion='maxclust')\n",
    "\n",
    "# code = 600359\n",
    "# data['cluster'] = index_cluster\n",
    "# data.loc[code, 'cluster']\n",
    "\n",
    "# len(index_cluster[index_cluster==data.loc[code, 'cluster']])\n",
    "\n",
    "# data_cluster = data.loc[data.cluster==data.loc[code, 'cluster']]"
   ]
  },
  {
   "cell_type": "markdown",
   "metadata": {
    "extensions": {
     "jupyter_dashboards": {
      "version": 1,
      "views": {
       "grid_default": {
        "col": 4,
        "height": 4,
        "hidden": false,
        "row": 82,
        "width": 4
       },
       "report_default": {}
      }
     }
    }
   },
   "source": [
    "# 根据聚类结果下载股票"
   ]
  },
  {
   "cell_type": "code",
   "execution_count": 24,
   "metadata": {
    "collapsed": false,
    "extensions": {
     "jupyter_dashboards": {
      "version": 1,
      "views": {
       "grid_default": {
        "hidden": true
       },
       "report_default": {}
      }
     }
    }
   },
   "outputs": [],
   "source": [
    "#codes = df.loc[df.label==int(df.loc[df.code==int(code), 'label'].values),'code']\n",
    "#codes = [str(i).zfill(6) for i in codes]"
   ]
  },
  {
   "cell_type": "code",
   "execution_count": 25,
   "metadata": {
    "collapsed": true,
    "extensions": {
     "jupyter_dashboards": {
      "version": 1,
      "views": {
       "grid_default": {
        "hidden": true
       },
       "report_default": {}
      }
     }
    }
   },
   "outputs": [],
   "source": [
    "#import tushare as ts"
   ]
  },
  {
   "cell_type": "code",
   "execution_count": 26,
   "metadata": {
    "collapsed": false,
    "extensions": {
     "jupyter_dashboards": {
      "version": 1,
      "views": {
       "grid_default": {
        "hidden": true
       },
       "report_default": {}
      }
     }
    }
   },
   "outputs": [],
   "source": [
    "# sta = '2015-05-20'\n",
    "# end = '2015-07-10'\n",
    "# code_dict = {}\n",
    "# for code in codes:\n",
    "#     day_result = ts.get_hist_data(code, start=sta,end=end)\n",
    "#     day_result.sort_index(ascending=True, inplace=True)\n",
    "#     code_dict[code] = day_result"
   ]
  },
  {
   "cell_type": "code",
   "execution_count": 27,
   "metadata": {
    "collapsed": true,
    "extensions": {
     "jupyter_dashboards": {
      "version": 1,
      "views": {
       "grid_default": {
        "hidden": true
       },
       "report_default": {}
      }
     }
    }
   },
   "outputs": [],
   "source": [
    "# import pickle\n",
    "# with open('./data/每日数据2.txt','wb') as f:  \n",
    "#     pickle.dump(code_dict,f)  "
   ]
  },
  {
   "cell_type": "code",
   "execution_count": 28,
   "metadata": {
    "collapsed": false,
    "extensions": {
     "jupyter_dashboards": {
      "version": 1,
      "views": {
       "grid_default": {
        "hidden": true
       },
       "report_default": {}
      }
     }
    }
   },
   "outputs": [],
   "source": [
    "import pickle\n",
    "with open('./data/每日数据2.txt','rb') as f:  \n",
    "    code_dict = pickle.load(f)"
   ]
  },
  {
   "cell_type": "code",
   "execution_count": 39,
   "metadata": {
    "collapsed": false
   },
   "outputs": [],
   "source": [
    "codes = list(code_dict.keys())"
   ]
  },
  {
   "cell_type": "markdown",
   "metadata": {},
   "source": [
    "## 按总股本加权"
   ]
  },
  {
   "cell_type": "markdown",
   "metadata": {},
   "source": [
    "### 股价"
   ]
  },
  {
   "cell_type": "code",
   "execution_count": 41,
   "metadata": {
    "collapsed": false,
    "extensions": {
     "jupyter_dashboards": {
      "version": 1,
      "views": {
       "grid_default": {
        "hidden": true
       },
       "report_default": {}
      }
     }
    }
   },
   "outputs": [],
   "source": [
    "mean = code_dict['600359']['close'] * 0\n",
    "for date in code_dict['600359'].index:\n",
    "    n = 0\n",
    "    for c in codes[1:]:\n",
    "        if date in code_dict[c].index:\n",
    "            mean.loc[date] += code_dict[c].loc[date, 'close'] * float(df.loc[df.code==int(c), 'totals'])\n",
    "            n += float(df.loc[df.code==int(c), 'totals'])\n",
    "\n",
    "    mean.loc[date] /= n "
   ]
  },
  {
   "cell_type": "markdown",
   "metadata": {},
   "source": [
    "### 成交量"
   ]
  },
  {
   "cell_type": "code",
   "execution_count": 63,
   "metadata": {
    "collapsed": true
   },
   "outputs": [],
   "source": [
    "mean_volume = code_dict['600359']['volume'] * 0\n",
    "for date in code_dict['600359'].index:\n",
    "    n = 0\n",
    "    for c in codes[1:]:\n",
    "        if date in code_dict[c].index:\n",
    "            mean_volume.loc[date] += code_dict[c].loc[date, 'volume'] * float(df.loc[df.code==int(c), 'totals'])\n",
    "            n += float(df.loc[df.code==int(c), 'totals'])\n",
    "\n",
    "    mean_volume.loc[date] /= n "
   ]
  },
  {
   "cell_type": "code",
   "execution_count": 61,
   "metadata": {
    "collapsed": false
   },
   "outputs": [
    {
     "data": {
      "image/png": "[encoded data removed]",
      "text/plain": [
       "<matplotlib.figure.Figure at 0x23f0c4996d8>"
      ]
     },
     "metadata": {},
     "output_type": "display_data"
    }
   ],
   "source": [
    "plt.figure(dpi=100)\n",
    "mean.loc['2015-05-15':].plot(label='mean')\n",
    "code_dict['600359'].loc['2015-05-15':]['close'].plot(label='600359')\n",
    "#plt.hlines(18.4,*plt.xlim(), linestyle='--', color='r')\n",
    "#plt.hlines(18.77,*plt.xlim(), linestyle='--', color='r')\n",
    "plt.legend()\n",
    "plt.xticks(rotation=90);"
   ]
  },
  {
   "cell_type": "code",
   "execution_count": 72,
   "metadata": {
    "collapsed": false
   },
   "outputs": [
    {
     "data": {
      "image/png": "[encoded data removed]",
      "text/plain": [
       "<matplotlib.figure.Figure at 0x23f0c4f4908>"
      ]
     },
     "metadata": {},
     "output_type": "display_data"
    }
   ],
   "source": [
    "plt.figure(dpi=100)\n",
    "mean_volume.loc['2015-05-15':].plot.bar(label='mean')\n",
    "code_dict['600359'].loc['2015-05-15':]['volume'].plot.bar(label='600359', color='y')\n",
    "plt.legend()\n",
    "plt.xticks(rotation=90);"
   ]
  },
  {
   "cell_type": "code",
   "execution_count": null,
   "metadata": {
    "collapsed": true
   },
   "outputs": [],
   "source": []
  }
 ],
 "metadata": {
  "extensions": {
   "jupyter_dashboards": {
    "activeView": "grid_default",
    "version": 1,
    "views": {
     "grid_default": {
      "cellMargin": 10,
      "defaultCellHeight": 20,
      "maxColumns": 12,
      "name": "grid",
      "type": "grid"
     },
     "report_default": {
      "name": "report",
      "type": "report"
     }
    }
   }
  },
  "kernelspec": {
   "display_name": "Python [conda root]",
   "language": "python",
   "name": "conda-root-py"
  },
  "language_info": {
   "codemirror_mode": {
    "name": "ipython",
    "version": 3
   },
   "file_extension": ".py",
   "mimetype": "text/x-python",
   "name": "python",
   "nbconvert_exporter": "python",
   "pygments_lexer": "ipython3",
   "version": "3.6.2"
  },
  "toc": {
   "nav_menu": {},
   "number_sections": true,
   "sideBar": true,
   "skip_h1_title": false,
   "toc_cell": false,
   "toc_position": {},
   "toc_section_display": "block",
   "toc_window_display": false
  },
  "varInspector": {
   "cols": {
    "lenName": 16,
    "lenType": 16,
    "lenVar": 40
   },
   "kernels_config": {
    "python": {
     "delete_cmd_postfix": "",
     "delete_cmd_prefix": "del ",
     "library": "var_list.py",
     "varRefreshCmd": "print(var_dic_list())"
    },
    "r": {
     "delete_cmd_postfix": ") ",
     "delete_cmd_prefix": "rm(",
     "library": "var_list.r",
     "varRefreshCmd": "cat(var_dic_list()) "
    }
   },
   "position": {
    "height": "326px",
    "left": "1116.72px",
    "right": "20px",
    "top": "164.941px",
    "width": "350px"
   },
   "types_to_exclude": [
    "module",
    "function",
    "builtin_function_or_method",
    "instance",
    "_Feature"
   ],
   "window_display": false
  }
 },
 "nbformat": 4,
 "nbformat_minor": 2
}
